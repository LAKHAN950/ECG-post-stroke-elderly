{
 "cells": [
  {
   "cell_type": "code",
   "execution_count": 1,
   "id": "311ebda3",
   "metadata": {},
   "outputs": [],
   "source": [
    "import pandas as pd\n",
    "import numpy as np\n",
    "import wfdb\n",
    "import os\n",
    "import urllib.request\n",
    "import matplotlib.pyplot as plt\n",
    "import random\n",
    "from scipy import signal\n",
    "import glob\n",
    "from tqdm import tqdm"
   ]
  },
  {
   "cell_type": "markdown",
   "id": "0f691f7b",
   "metadata": {},
   "source": [
    "## Reading Data"
   ]
  },
  {
   "cell_type": "code",
   "execution_count": null,
   "id": "6684c851",
   "metadata": {},
   "outputs": [],
   "source": [
    "data = wfdb.rdrecord(\"s0030-04051907\",sampfrom = 1800000, sampto = 25316395, channels=[0,1])\n",
    "# p_signal convert wfdb object data to numpy array data\n",
    "data.p_signal.shape"
   ]
  },
  {
   "cell_type": "code",
   "execution_count": null,
   "id": "c2a8408a",
   "metadata": {},
   "outputs": [],
   "source": [
    "data.p_signal"
   ]
  },
  {
   "cell_type": "code",
   "execution_count": null,
   "id": "66194c1b",
   "metadata": {},
   "outputs": [],
   "source": [
    "wfdb.plot_wfdb(record = data, title = \"Medical Data\")"
   ]
  },
  {
   "cell_type": "code",
   "execution_count": null,
   "id": "6ece2967",
   "metadata": {},
   "outputs": [],
   "source": [
    "data1 = data.p_signal\n",
    "\n",
    "plt.figure(figsize = (15,6))\n",
    "plt.plot(list(range(1000,6000)), data1[1000:6000, 0])\n",
    "plt.xlabel(\"Time\")\n",
    "plt.ylabel(\"RV5/6-L clavicle\")\n",
    "plt.show()\n",
    "\n",
    "plt.figure(figsize = (15,6))\n",
    "plt.plot(list(range(1000,6000)), data1[1000:6000, 1])\n",
    "plt.xlabel(\"Time\")\n",
    "plt.ylabel(\"V1/2-L clavicle\")\n",
    "plt.show()"
   ]
  },
  {
   "cell_type": "markdown",
   "id": "0d97eda5",
   "metadata": {},
   "source": [
    "## Splitting into 100 random non-overlapping parts - Size:6000"
   ]
  },
  {
   "cell_type": "code",
   "execution_count": null,
   "id": "ee7a321e",
   "metadata": {},
   "outputs": [],
   "source": [
    "num = [6000*i + x for i, x in enumerate(sorted(random.sample(range(3000), 100)))]\n",
    "datalist = []\n",
    "for i in num:\n",
    "    datalist.append(data1[i:6000+i,:])"
   ]
  },
  {
   "cell_type": "code",
   "execution_count": null,
   "id": "64f09194",
   "metadata": {},
   "outputs": [],
   "source": [
    "datalist = np.array(datalist)\n",
    "# Min Max normalization\n",
    "normalizedData = (datalist-np.min(datalist))/(np.max(datalist)-np.min(datalist))\n",
    "del datalist\n",
    "# saving data on disk\n",
    "np.save('ecg_dataset.npy', normalizedData)\n",
    "print(normalizedData.shape)\n",
    "normalizedData"
   ]
  },
  {
   "cell_type": "markdown",
   "id": "ccbc0933",
   "metadata": {},
   "source": [
    "## Reading Data and applying pre-processing"
   ]
  },
  {
   "cell_type": "code",
   "execution_count": null,
   "id": "40371004",
   "metadata": {},
   "outputs": [],
   "source": [
    "data_array = np.load('ecg_dataset.npy')\n",
    "print(data_array.shape)\n",
    "data_array"
   ]
  },
  {
   "cell_type": "code",
   "execution_count": 4,
   "id": "e94b17da",
   "metadata": {},
   "outputs": [],
   "source": [
    "# removing small random fluctions\n",
    "# Butter LowPass Filter: The cutoff frequency and polynomial order were 11 Hz and two (quadratic)\n",
    "def butter_lowpass_filter(data, cutoff_freq, nyq_freq, order=4):\n",
    "    normal_cutoff = float(cutoff_freq) / nyq_freq\n",
    "    b, a = signal.butter(order, normal_cutoff, btype='lowpass')\n",
    "    print(a,b)\n",
    "    y = signal.filtfilt(b, a, data, padlen=1)\n",
    "    return y"
   ]
  },
  {
   "cell_type": "code",
   "execution_count": null,
   "id": "7a1845aa",
   "metadata": {},
   "outputs": [],
   "source": [
    "# smooth signals\n",
    "smoothened_signals = butter_lowpass_filter(data_array, 11, 6000, order = 2)\n",
    "\n",
    "# high frequency signals\n",
    "high_freq_signals = data_array - smoothened_signals\n",
    "\n",
    "# First, Second and Third Order Derivative of smooth signals\n",
    "gradient = np.gradient(smoothened_signals)"
   ]
  },
  {
   "cell_type": "code",
   "execution_count": null,
   "id": "3db1aaf8",
   "metadata": {
    "scrolled": false
   },
   "outputs": [],
   "source": [
    "def indexFunc(i):\n",
    "    if i == 0:\n",
    "        return \"Normalized\"\n",
    "    elif i == 1:\n",
    "        return \"Smoothened Signals\"\n",
    "    elif i == 2:\n",
    "        return \"High Frequency\"\n",
    "    elif i == 3:\n",
    "        return \"First Order Derivative\"\n",
    "    elif i == 4:\n",
    "        return \"Second Order Derivative\"\n",
    "\n",
    "var = [data_array, smoothened_signals, high_freq_signals, gradient[0], gradient[1]]\n",
    "\n",
    "for i in range(len(var)):\n",
    "    plt.figure(figsize = (15,6))\n",
    "    plt.plot(list(range(6000)), var[i][2, : , 0])\n",
    "    plt.title(indexFunc(i))\n",
    "    plt.xlabel(\"Time\")\n",
    "    plt.ylabel(\"RV5/6-L clavicle\")\n",
    "    plt.savefig(indexFunc(i)+'.png')\n",
    "    plt.show()\n",
    "\n",
    "# plt.figure(figsize = (15,6))\n",
    "# plt.plot(list(range(6000)), smoothened_signals[2, : , 0])\n",
    "# plt.title(\"Smoothened\")\n",
    "# plt.xlabel(\"Time\")\n",
    "# plt.ylabel(\"RV5/6-L clavicle\")\n",
    "# plt.show()\n",
    "\n",
    "# plt.figure(figsize = (15,6))\n",
    "# plt.plot(list(range(6000)), high_freq_signals[2, : , 0])\n",
    "# plt.title(\"High Frequency\")\n",
    "# plt.xlabel(\"Time\")\n",
    "# plt.ylabel(\"RV5/6-L clavicle\")\n",
    "# plt.show()"
   ]
  },
  {
   "cell_type": "markdown",
   "id": "cb0978ed",
   "metadata": {},
   "source": [
    "## Data classification"
   ]
  },
  {
   "cell_type": "code",
   "execution_count": null,
   "id": "910ae103",
   "metadata": {},
   "outputs": [],
   "source": [
    "directory = \"Dataset/\"\n",
    "os.makedirs(directory, exist_ok = True)\n",
    "df = pd.DataFrame(columns=[\"File\", \"Class\"])\n",
    "counter = 0\n",
    "for index in tqdm(range(len(data_array))):\n",
    "    for i in range(2):\n",
    "        # saving data\n",
    "        filename = \"ecg_{}_{}.npy\".format(counter, i)\n",
    "        data = data_array[index,:,i].reshape((6000,1))\n",
    "        smoothened = smoothened_signals[index,:,i].reshape((6000,1))\n",
    "        high_freq = high_freq_signals[index, :, i].reshape((6000,1))\n",
    "        grad1 = gradient[0][index, :, i].reshape((6000,1))\n",
    "        grad2 = gradient[1][index, :, i].reshape((6000,1))\n",
    "        array = np.concatenate((data, smoothened, high_freq, grad1, grad2), axis=1)\n",
    "        np.save(directory+filename, array)\n",
    "        # saving image\n",
    "        plt.plot(list(range(6000)), data_array[index,:,i])\n",
    "        plt.xlabel(\"Time\")\n",
    "        plt.ylabel(\"RV5/6-L clavicle\")\n",
    "        plt.savefig(directory+\"ecg_{}_{}.png\".format(counter, i))\n",
    "        plt.clf()\n",
    "        # saving CSv data\n",
    "        df.loc[len(df.index)] = [filename, None]\n",
    "    counter+=1\n",
    "\n",
    "df.to_csv(directory + \"labels.csv\", index=False)"
   ]
  },
  {
   "cell_type": "markdown",
   "id": "ada22087",
   "metadata": {},
   "source": [
    "# Dynamic NPY File Generation"
   ]
  },
  {
   "cell_type": "code",
   "execution_count": 2,
   "id": "d35742f1",
   "metadata": {},
   "outputs": [
    {
     "name": "stderr",
     "output_type": "stream",
     "text": [
      "100%|██████████████████████████████████████████████████████████████████████████████████| 10/10 [00:18<00:00,  1.89s/it]\n"
     ]
    }
   ],
   "source": [
    "loc = \"New Dataset/\"\n",
    "files = glob.glob(loc + \"*.dat\")\n",
    "for file in tqdm(files):\n",
    "    basename = file.split(\".\")[0]\n",
    "    data = wfdb.rdrecord(basename, sampfrom = 1800000, channels=[0,1])\n",
    "    data = data.p_signal\n",
    "    num = [6000*i + x for i, x in enumerate(sorted(random.sample(range(5000), 100)))]\n",
    "    datalist = []\n",
    "    for i in num:\n",
    "        datalist.append(data[i:6000+i,:])\n",
    "    datalist = np.array(datalist)\n",
    "    # Min Max normalization\n",
    "    normalizedData = (datalist-np.min(datalist))/(np.max(datalist)-np.min(datalist))\n",
    "    del datalist\n",
    "    # saving data on disk\n",
    "    name = basename.split(\"/\")[-1]\n",
    "    np.save(name+'.npy', normalizedData)"
   ]
  },
  {
   "cell_type": "code",
   "execution_count": 5,
   "id": "883927cf",
   "metadata": {},
   "outputs": [
    {
     "name": "stdout",
     "output_type": "stream",
     "text": [
      "Processing File:  New Dataset\\s0324-07030105.npy\n",
      "[ 1.         -1.99185476  0.9918878 ] [8.25954832e-06 1.65190966e-05 8.25954832e-06]\n"
     ]
    },
    {
     "name": "stderr",
     "output_type": "stream",
     "text": [
      "100%|████████████████████████████████████████████████████████████████████████████████| 100/100 [00:19<00:00,  5.21it/s]\n"
     ]
    },
    {
     "name": "stdout",
     "output_type": "stream",
     "text": [
      "Processing File:  New Dataset\\s0324-07030106.npy\n",
      "[ 1.         -1.99185476  0.9918878 ] [8.25954832e-06 1.65190966e-05 8.25954832e-06]\n"
     ]
    },
    {
     "name": "stderr",
     "output_type": "stream",
     "text": [
      "100%|████████████████████████████████████████████████████████████████████████████████| 100/100 [00:18<00:00,  5.43it/s]\n"
     ]
    },
    {
     "name": "stdout",
     "output_type": "stream",
     "text": [
      "Processing File:  New Dataset\\s0363-07072603.npy\n",
      "[ 1.         -1.99185476  0.9918878 ] [8.25954832e-06 1.65190966e-05 8.25954832e-06]\n"
     ]
    },
    {
     "name": "stderr",
     "output_type": "stream",
     "text": [
      "100%|████████████████████████████████████████████████████████████████████████████████| 100/100 [00:19<00:00,  5.24it/s]\n"
     ]
    },
    {
     "name": "stdout",
     "output_type": "stream",
     "text": [
      "Processing File:  New Dataset\\s0363-07072604.npy\n",
      "[ 1.         -1.99185476  0.9918878 ] [8.25954832e-06 1.65190966e-05 8.25954832e-06]\n"
     ]
    },
    {
     "name": "stderr",
     "output_type": "stream",
     "text": [
      "100%|████████████████████████████████████████████████████████████████████████████████| 100/100 [00:18<00:00,  5.37it/s]\n"
     ]
    },
    {
     "name": "stdout",
     "output_type": "stream",
     "text": [
      "Processing File:  New Dataset\\s0378-07100403.npy\n",
      "[ 1.         -1.99185476  0.9918878 ] [8.25954832e-06 1.65190966e-05 8.25954832e-06]\n"
     ]
    },
    {
     "name": "stderr",
     "output_type": "stream",
     "text": [
      "100%|████████████████████████████████████████████████████████████████████████████████| 100/100 [00:18<00:00,  5.35it/s]\n"
     ]
    },
    {
     "name": "stdout",
     "output_type": "stream",
     "text": [
      "Processing File:  New Dataset\\s0378-07100404.npy\n",
      "[ 1.         -1.99185476  0.9918878 ] [8.25954832e-06 1.65190966e-05 8.25954832e-06]\n"
     ]
    },
    {
     "name": "stderr",
     "output_type": "stream",
     "text": [
      "100%|████████████████████████████████████████████████████████████████████████████████| 100/100 [00:18<00:00,  5.29it/s]\n"
     ]
    },
    {
     "name": "stdout",
     "output_type": "stream",
     "text": [
      "Processing File:  New Dataset\\s0397-08012203.npy\n",
      "[ 1.         -1.99185476  0.9918878 ] [8.25954832e-06 1.65190966e-05 8.25954832e-06]\n"
     ]
    },
    {
     "name": "stderr",
     "output_type": "stream",
     "text": [
      "100%|████████████████████████████████████████████████████████████████████████████████| 100/100 [00:18<00:00,  5.38it/s]\n"
     ]
    },
    {
     "name": "stdout",
     "output_type": "stream",
     "text": [
      "Processing File:  New Dataset\\s0397-08012205.npy\n",
      "[ 1.         -1.99185476  0.9918878 ] [8.25954832e-06 1.65190966e-05 8.25954832e-06]\n"
     ]
    },
    {
     "name": "stderr",
     "output_type": "stream",
     "text": [
      "100%|████████████████████████████████████████████████████████████████████████████████| 100/100 [00:18<00:00,  5.29it/s]\n"
     ]
    },
    {
     "name": "stdout",
     "output_type": "stream",
     "text": [
      "Processing File:  New Dataset\\s0402-08010703.npy\n",
      "[ 1.         -1.99185476  0.9918878 ] [8.25954832e-06 1.65190966e-05 8.25954832e-06]\n"
     ]
    },
    {
     "name": "stderr",
     "output_type": "stream",
     "text": [
      "100%|████████████████████████████████████████████████████████████████████████████████| 100/100 [00:18<00:00,  5.47it/s]\n"
     ]
    },
    {
     "name": "stdout",
     "output_type": "stream",
     "text": [
      "Processing File:  New Dataset\\s0402-08010704.npy\n",
      "[ 1.         -1.99185476  0.9918878 ] [8.25954832e-06 1.65190966e-05 8.25954832e-06]\n"
     ]
    },
    {
     "name": "stderr",
     "output_type": "stream",
     "text": [
      "100%|████████████████████████████████████████████████████████████████████████████████| 100/100 [00:18<00:00,  5.29it/s]\n"
     ]
    },
    {
     "data": {
      "text/plain": [
       "<Figure size 432x288 with 0 Axes>"
      ]
     },
     "metadata": {},
     "output_type": "display_data"
    }
   ],
   "source": [
    "directory = \"Dataset - 1/\"\n",
    "loc = \"New Dataset/\"\n",
    "\n",
    "os.makedirs(directory, exist_ok = True)\n",
    "df = pd.DataFrame(columns=[\"File\", \"Class\"])\n",
    "counter = 0\n",
    "\n",
    "files = glob.glob(loc + \"*.npy\")\n",
    "for file in files:\n",
    "    filename = file.split(\".\")[0].split(\"\\\\\")[-1].split(\"-\")[0]\n",
    "    print(\"Processing File: \", file)\n",
    "    data_array = np.load(file)\n",
    "    # smooth signals\n",
    "    smoothened_signals = butter_lowpass_filter(data_array, 11, 6000, order = 2)\n",
    "    # high frequency signals\n",
    "    high_freq_signals = data_array - smoothened_signals\n",
    "    # First, Second and Third Order Derivative of smooth signals\n",
    "    gradient = np.gradient(smoothened_signals)\n",
    "    \n",
    "    for index in tqdm(range(len(data_array))):\n",
    "        for i in range(2):\n",
    "            # saving data\n",
    "            new_filename = \"{}_{}_{}.npy\".format(counter, filename, i)\n",
    "            data = data_array[index,:,i].reshape((6000,1))\n",
    "            smoothened = smoothened_signals[index,:,i].reshape((6000,1))\n",
    "            high_freq = high_freq_signals[index, :, i].reshape((6000,1))\n",
    "            grad1 = gradient[0][index, :, i].reshape((6000,1))\n",
    "            grad2 = gradient[1][index, :, i].reshape((6000,1))\n",
    "            array = np.concatenate((data, smoothened, high_freq, grad1, grad2), axis=1)\n",
    "            np.save(directory+new_filename, array)\n",
    "            # saving image\n",
    "            plt.plot(list(range(6000)), data_array[index,:,i])\n",
    "            plt.xlabel(\"Time\")\n",
    "            plt.ylabel(\"RV5/6-L clavicle\")\n",
    "            plt.savefig(directory+\"{}_{}_{}.png\".format(counter, filename, i))\n",
    "            plt.clf()\n",
    "            # saving CSv data\n",
    "            df.loc[len(df.index)] = [new_filename, None]\n",
    "        counter+=1\n",
    "\n",
    "df.to_csv(directory + \"labels.csv\", index=False)"
   ]
  },
  {
   "cell_type": "code",
   "execution_count": null,
   "id": "25489b27",
   "metadata": {},
   "outputs": [],
   "source": []
  }
 ],
 "metadata": {
  "kernelspec": {
   "display_name": "Python 3.10.7 64-bit",
   "language": "python",
   "name": "python3"
  },
  "language_info": {
   "codemirror_mode": {
    "name": "ipython",
    "version": 3
   },
   "file_extension": ".py",
   "mimetype": "text/x-python",
   "name": "python",
   "nbconvert_exporter": "python",
   "pygments_lexer": "ipython3",
   "version": "3.10.7"
  },
  "vscode": {
   "interpreter": {
    "hash": "26de051ba29f2982a8de78e945f0abaf191376122a1563185a90213a26c5da77"
   }
  }
 },
 "nbformat": 4,
 "nbformat_minor": 5
}
