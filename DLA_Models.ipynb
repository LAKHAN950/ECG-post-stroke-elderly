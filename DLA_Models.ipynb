{
  "cells": [
    {
      "cell_type": "code",
      "execution_count": 1,
      "id": "a0e45b0a",
      "metadata": {
        "id": "a0e45b0a"
      },
      "outputs": [],
      "source": [
        "import tensorflow as tf\n",
        "from tensorflow import keras\n",
        "import numpy as np\n",
        "import pandas as pd\n",
        "import zipfile\n",
        "from sklearn.model_selection import train_test_split\n",
        "import matplotlib.pyplot as plt"
      ]
    },
    {
      "cell_type": "code",
      "source": [
        "from google.colab import drive\n",
        "drive.mount('/content/drive')"
      ],
      "metadata": {
        "colab": {
          "base_uri": "https://localhost:8080/"
        },
        "id": "5DDlOb6fkX1h",
        "outputId": "22dddf9c-5019-4e78-ac25-0023c06fa738"
      },
      "id": "5DDlOb6fkX1h",
      "execution_count": 2,
      "outputs": [
        {
          "output_type": "stream",
          "name": "stdout",
          "text": [
            "Mounted at /content/drive\n"
          ]
        }
      ]
    },
    {
      "cell_type": "markdown",
      "id": "0d6a3223",
      "metadata": {
        "id": "0d6a3223"
      },
      "source": [
        "# Quality Check Model"
      ]
    },
    {
      "cell_type": "code",
      "source": [
        "with zipfile.ZipFile(\"/content/drive/MyDrive/QC Dataset.zip\", 'r') as zip_ref:\n",
        "    zip_ref.extractall(\"\")"
      ],
      "metadata": {
        "id": "VtQEsDsTkOWe"
      },
      "id": "VtQEsDsTkOWe",
      "execution_count": null,
      "outputs": []
    },
    {
      "cell_type": "code",
      "execution_count": null,
      "id": "8c2be845",
      "metadata": {
        "scrolled": false,
        "id": "8c2be845"
      },
      "outputs": [],
      "source": [
        "x_data = []\n",
        "y_data = []\n",
        "df = pd.read_csv(\"QC Dataset/labels.csv\")\n",
        "for _, row in df.iterrows():\n",
        "    data = np.load(\"QC Dataset/{}\".format(row[\"File\"]))\n",
        "    x_data.append(data)\n",
        "    y_data.append(row[\"Class\"])"
      ]
    },
    {
      "cell_type": "code",
      "execution_count": null,
      "id": "e1252ed6",
      "metadata": {
        "colab": {
          "base_uri": "https://localhost:8080/"
        },
        "id": "e1252ed6",
        "outputId": "790c9456-5c7f-4122-e300-ab361b7062f4"
      },
      "outputs": [
        {
          "output_type": "stream",
          "name": "stdout",
          "text": [
            "(5277, 6000, 5)\n",
            "(5277,)\n"
          ]
        }
      ],
      "source": [
        "x_data = np.array(x_data)\n",
        "y_data = np.array(y_data)\n",
        "print(x_data.shape)\n",
        "print(y_data.shape)"
      ]
    },
    {
      "cell_type": "code",
      "source": [
        "x_val_train, x_test, y_val_train, y_test = train_test_split(x_data,y_data,test_size=0.2,train_size=0.8)\n",
        "x_train, x_val, y_train, y_val = train_test_split(x_val_train,y_val_train,test_size=0.2,train_size=0.8)\n",
        "print(x_train.shape)\n",
        "print(y_train.shape)\n",
        "print(x_val.shape)\n",
        "print(y_val.shape)\n",
        "print(x_test.shape)\n",
        "print(y_test.shape)"
      ],
      "metadata": {
        "colab": {
          "base_uri": "https://localhost:8080/"
        },
        "id": "xjaX1D02lw2i",
        "outputId": "e4a7a32a-83d8-41ea-9a59-574386ad665d"
      },
      "id": "xjaX1D02lw2i",
      "execution_count": null,
      "outputs": [
        {
          "output_type": "stream",
          "name": "stdout",
          "text": [
            "(3376, 6000, 5)\n",
            "(3376,)\n",
            "(845, 6000, 5)\n",
            "(845,)\n",
            "(1056, 6000, 5)\n",
            "(1056,)\n"
          ]
        }
      ]
    },
    {
      "cell_type": "code",
      "source": [
        "# file: qc_model_best1.h5  (Biased for High Quality Signals)\n",
        "# qc_model = keras.models.Sequential([\n",
        "#     keras.layers.Conv1D(16, 20, strides = 10, input_shape = (6000,5), activation='relu'),\n",
        "#     keras.layers.MaxPooling1D(),\n",
        "#     keras.layers.Conv1D(32, 20, strides = 5, activation='relu'),\n",
        "#     keras.layers.MaxPooling1D(),\n",
        "#     keras.layers.Conv1D(64, 20, strides = 2, activation='relu'),\n",
        "#     keras.layers.GlobalAveragePooling1D(),\n",
        "#     keras.layers.Dropout(0.5),\n",
        "#     keras.layers.Dense(16, activation = \"relu\", kernel_regularizer = 'l2'),\n",
        "#     keras.layers.Dense(1, activation = \"sigmoid\", kernel_regularizer = 'l2')\n",
        "# ])\n",
        "# qc_model.summary()\n",
        "# adam = keras.optimizers.Adam(learning_rate = 0.01)\n",
        "# qc_model.compile(loss = keras.losses.BinaryCrossentropy(), \n",
        "#               optimizer = adam, metrics = [\"accuracy\"])\n",
        "\n",
        "\n",
        "# file: qc_model_best1_1.h5   (Balanced Model)\n",
        "# qc_model = keras.models.Sequential([\n",
        "#     keras.layers.Conv1D(16, 20, strides = 10, input_shape = (6000,5), activation='relu'),\n",
        "#     keras.layers.BatchNormalization(),\n",
        "#     keras.layers.MaxPooling1D(),\n",
        "#     keras.layers.Conv1D(32, 20, strides = 5, activation='relu'),\n",
        "#     keras.layers.BatchNormalization(),\n",
        "#     keras.layers.MaxPooling1D(),\n",
        "#     keras.layers.Conv1D(64, 20, strides = 3, activation='relu'),\n",
        "#     keras.layers.BatchNormalization(),\n",
        "#     keras.layers.Conv1D(128, 3, strides = 1, padding = \"same\", activation='relu'),\n",
        "#     keras.layers.GlobalAveragePooling1D(),\n",
        "#     keras.layers.Dropout(0.5),\n",
        "#     keras.layers.Dense(16, activation = \"relu\", kernel_regularizer = 'l2'),\n",
        "#     keras.layers.Dense(1, activation = \"sigmoid\", kernel_regularizer = 'l1')\n",
        "# ])\n",
        "# qc_model.summary()\n",
        "# adam = keras.optimizers.Adam(learning_rate = 0.01)\n",
        "# qc_model.compile(loss = keras.losses.BinaryCrossentropy(), \n",
        "#               optimizer = adam, metrics = [\"accuracy\"])\n",
        "\n",
        "\n",
        "# file: qc_model_best1_2.h5    (Best Model Till Date)\n",
        "# qc_model = keras.models.Sequential([\n",
        "#     keras.layers.Conv1D(16, 20, strides = 10, input_shape = (6000,5), activation='relu'),\n",
        "#     keras.layers.BatchNormalization(),\n",
        "#     keras.layers.MaxPooling1D(),\n",
        "#     keras.layers.Conv1D(32, 20, strides = 5, activation='relu'),\n",
        "#     keras.layers.BatchNormalization(),\n",
        "#     keras.layers.MaxPooling1D(),\n",
        "#     keras.layers.Dropout(0.4),\n",
        "#     keras.layers.Conv1D(64, 20, strides = 3, activation='relu'),\n",
        "#     keras.layers.BatchNormalization(),\n",
        "#     keras.layers.Conv1D(128, 3, strides = 1, padding = \"same\", activation='relu'),\n",
        "#     keras.layers.Flatten(),\n",
        "#     keras.layers.Dropout(0.5),\n",
        "#     keras.layers.Dense(16, activation = \"relu\", kernel_regularizer = 'l2'),\n",
        "#     keras.layers.Dense(1, activation = \"sigmoid\", kernel_regularizer = 'l1')\n",
        "# ])\n",
        "# qc_model.summary()\n",
        "# adam = keras.optimizers.Adam(learning_rate = 0.01)\n",
        "# qc_model.compile(loss = keras.losses.BinaryCrossentropy(), \n",
        "#               optimizer = adam, metrics = [\"accuracy\"])"
      ],
      "metadata": {
        "id": "paN8mjSTN3y0"
      },
      "id": "paN8mjSTN3y0",
      "execution_count": null,
      "outputs": []
    },
    {
      "cell_type": "code",
      "execution_count": null,
      "id": "baf6b594",
      "metadata": {
        "colab": {
          "base_uri": "https://localhost:8080/"
        },
        "id": "baf6b594",
        "outputId": "1d57238a-c77f-46ab-a7d4-8acc0be82036"
      },
      "outputs": [
        {
          "output_type": "stream",
          "name": "stdout",
          "text": [
            "Model: \"sequential_13\"\n",
            "_________________________________________________________________\n",
            " Layer (type)                Output Shape              Param #   \n",
            "=================================================================\n",
            " conv1d_48 (Conv1D)          (None, 599, 16)           1616      \n",
            "                                                                 \n",
            " batch_normalization_23 (Bat  (None, 599, 16)          64        \n",
            " chNormalization)                                                \n",
            "                                                                 \n",
            " max_pooling1d_26 (MaxPoolin  (None, 299, 16)          0         \n",
            " g1D)                                                            \n",
            "                                                                 \n",
            " conv1d_49 (Conv1D)          (None, 56, 32)            10272     \n",
            "                                                                 \n",
            " batch_normalization_24 (Bat  (None, 56, 32)           128       \n",
            " chNormalization)                                                \n",
            "                                                                 \n",
            " max_pooling1d_27 (MaxPoolin  (None, 28, 32)           0         \n",
            " g1D)                                                            \n",
            "                                                                 \n",
            " dropout_13 (Dropout)        (None, 28, 32)            0         \n",
            "                                                                 \n",
            " conv1d_50 (Conv1D)          (None, 3, 64)             41024     \n",
            "                                                                 \n",
            " batch_normalization_25 (Bat  (None, 3, 64)            256       \n",
            " chNormalization)                                                \n",
            "                                                                 \n",
            " conv1d_51 (Conv1D)          (None, 3, 128)            24704     \n",
            "                                                                 \n",
            " flatten_1 (Flatten)         (None, 384)               0         \n",
            "                                                                 \n",
            " dropout_14 (Dropout)        (None, 384)               0         \n",
            "                                                                 \n",
            " dense_26 (Dense)            (None, 16)                6160      \n",
            "                                                                 \n",
            " dense_27 (Dense)            (None, 1)                 17        \n",
            "                                                                 \n",
            "=================================================================\n",
            "Total params: 84,241\n",
            "Trainable params: 84,017\n",
            "Non-trainable params: 224\n",
            "_________________________________________________________________\n"
          ]
        }
      ],
      "source": [
        "qc_model = keras.models.Sequential([\n",
        "    keras.layers.Conv1D(16, 20, strides = 10, input_shape = (6000,5), activation='relu'),\n",
        "    keras.layers.BatchNormalization(),\n",
        "    keras.layers.MaxPooling1D(),\n",
        "    keras.layers.Conv1D(32, 20, strides = 5, activation='relu'),\n",
        "    keras.layers.BatchNormalization(),\n",
        "    keras.layers.MaxPooling1D(),\n",
        "    keras.layers.Dropout(0.4),\n",
        "    keras.layers.Conv1D(64, 20, strides = 3, activation='relu'),\n",
        "    keras.layers.BatchNormalization(),\n",
        "    keras.layers.Conv1D(128, 3, strides = 1, padding = \"same\", activation='relu'),\n",
        "    keras.layers.Flatten(),\n",
        "    keras.layers.Dropout(0.5),\n",
        "    keras.layers.Dense(16, activation = \"relu\", kernel_regularizer = 'l2'),\n",
        "    keras.layers.Dense(1, activation = \"sigmoid\", kernel_regularizer = 'l1')\n",
        "])\n",
        "qc_model.summary()"
      ]
    },
    {
      "cell_type": "code",
      "execution_count": null,
      "id": "7707fcf0",
      "metadata": {
        "id": "7707fcf0"
      },
      "outputs": [],
      "source": [
        "adam = keras.optimizers.Adam(learning_rate = 0.01)\n",
        "qc_model.compile(loss = keras.losses.BinaryCrossentropy(), \n",
        "              optimizer = adam, metrics = [\"accuracy\"])"
      ]
    },
    {
      "cell_type": "code",
      "source": [
        "# Callback\n",
        "\n",
        "best_val_acc = 0\n",
        "best_val_loss = 10\n",
        "diff = 0\n",
        "\n",
        "\n",
        "def saveModel(epoch,logs):\n",
        "    global best_val_acc, best_val_loss, diff\n",
        "    val_acc = logs['val_accuracy']\n",
        "    val_loss = logs['val_loss']\n",
        "    diff1 = val_acc - val_loss\n",
        "\n",
        "    if val_acc > best_val_acc and val_loss < best_val_loss:\n",
        "        best_val_acc = val_acc\n",
        "        best_val_loss=val_loss\n",
        "        qc_model.save(\"/content/drive/MyDrive/qc_model_best1_2.h5\")\n",
        "        print(\"\\tSaved model on this epoch with max val_accuracy and min val_loss\")\n",
        "    elif diff1 > diff:\n",
        "        diff = diff1\n",
        "        qc_model.save(\"/content/drive/MyDrive/qc_model_best2_2.h5\")\n",
        "        print(\"\\tSaved model on this epoch with max difference\")"
      ],
      "metadata": {
        "id": "f6LFm-erm2jt"
      },
      "id": "f6LFm-erm2jt",
      "execution_count": null,
      "outputs": []
    },
    {
      "cell_type": "code",
      "execution_count": null,
      "id": "4e290e15",
      "metadata": {
        "colab": {
          "base_uri": "https://localhost:8080/"
        },
        "id": "4e290e15",
        "outputId": "96368422-4319-475a-b650-a27f97e8e6e7"
      },
      "outputs": [
        {
          "output_type": "stream",
          "name": "stdout",
          "text": [
            "Epoch 1/50\n",
            "169/169 [==============================] - ETA: 0s - loss: 0.7071 - accuracy: 0.6730\tSaved model on this epoch with max val_accuracy and min val_loss\n",
            "169/169 [==============================] - 3s 11ms/step - loss: 0.7071 - accuracy: 0.6730 - val_loss: 0.7783 - val_accuracy: 0.5183\n",
            "Epoch 2/50\n",
            "167/169 [============================>.] - ETA: 0s - loss: 0.5572 - accuracy: 0.7012\tSaved model on this epoch with max val_accuracy and min val_loss\n",
            "169/169 [==============================] - 1s 9ms/step - loss: 0.5591 - accuracy: 0.6991 - val_loss: 0.6299 - val_accuracy: 0.5893\n",
            "Epoch 3/50\n",
            "167/169 [============================>.] - ETA: 0s - loss: 0.5631 - accuracy: 0.7081\tSaved model on this epoch with max val_accuracy and min val_loss\n",
            "169/169 [==============================] - 1s 8ms/step - loss: 0.5631 - accuracy: 0.7076 - val_loss: 0.5985 - val_accuracy: 0.6414\n",
            "Epoch 4/50\n",
            "169/169 [==============================] - ETA: 0s - loss: 0.5531 - accuracy: 0.7097\tSaved model on this epoch with max val_accuracy and min val_loss\n",
            "169/169 [==============================] - 1s 9ms/step - loss: 0.5531 - accuracy: 0.7097 - val_loss: 0.5769 - val_accuracy: 0.6686\n",
            "Epoch 5/50\n",
            "162/169 [===========================>..] - ETA: 0s - loss: 0.5407 - accuracy: 0.7059\tSaved model on this epoch with max val_accuracy and min val_loss\n",
            "169/169 [==============================] - 2s 9ms/step - loss: 0.5391 - accuracy: 0.7070 - val_loss: 0.5356 - val_accuracy: 0.7077\n",
            "Epoch 6/50\n",
            "164/169 [============================>.] - ETA: 0s - loss: 0.5292 - accuracy: 0.7223\tSaved model on this epoch with max difference\n",
            "169/169 [==============================] - 2s 10ms/step - loss: 0.5307 - accuracy: 0.7204 - val_loss: 0.5363 - val_accuracy: 0.7041\n",
            "Epoch 7/50\n",
            "167/169 [============================>.] - ETA: 0s - loss: 0.5203 - accuracy: 0.7323\tSaved model on this epoch with max val_accuracy and min val_loss\n",
            "169/169 [==============================] - 2s 10ms/step - loss: 0.5203 - accuracy: 0.7325 - val_loss: 0.5320 - val_accuracy: 0.7325\n",
            "Epoch 8/50\n",
            "169/169 [==============================] - 2s 9ms/step - loss: 0.5184 - accuracy: 0.7293 - val_loss: 0.7288 - val_accuracy: 0.6876\n",
            "Epoch 9/50\n",
            "169/169 [==============================] - 2s 9ms/step - loss: 0.5065 - accuracy: 0.7349 - val_loss: 0.5535 - val_accuracy: 0.7195\n",
            "Epoch 10/50\n",
            "169/169 [==============================] - 1s 8ms/step - loss: 0.5005 - accuracy: 0.7325 - val_loss: 0.5600 - val_accuracy: 0.6970\n",
            "Epoch 11/50\n",
            "166/169 [============================>.] - ETA: 0s - loss: 0.4922 - accuracy: 0.7464\tSaved model on this epoch with max difference\n",
            "169/169 [==============================] - 2s 10ms/step - loss: 0.4916 - accuracy: 0.7461 - val_loss: 0.5157 - val_accuracy: 0.7231\n",
            "Epoch 12/50\n",
            "169/169 [==============================] - ETA: 0s - loss: 0.4792 - accuracy: 0.7589\tSaved model on this epoch with max val_accuracy and min val_loss\n",
            "169/169 [==============================] - 2s 10ms/step - loss: 0.4792 - accuracy: 0.7589 - val_loss: 0.5214 - val_accuracy: 0.7467\n",
            "Epoch 13/50\n",
            "169/169 [==============================] - 1s 8ms/step - loss: 0.4717 - accuracy: 0.7707 - val_loss: 0.5246 - val_accuracy: 0.7314\n",
            "Epoch 14/50\n",
            "169/169 [==============================] - 2s 9ms/step - loss: 0.4489 - accuracy: 0.7722 - val_loss: 0.6145 - val_accuracy: 0.7089\n",
            "Epoch 15/50\n",
            "162/169 [===========================>..] - ETA: 0s - loss: 0.4567 - accuracy: 0.7694\tSaved model on this epoch with max difference\n",
            "169/169 [==============================] - 2s 10ms/step - loss: 0.4566 - accuracy: 0.7693 - val_loss: 0.5105 - val_accuracy: 0.7432\n",
            "Epoch 16/50\n",
            "164/169 [============================>.] - ETA: 0s - loss: 0.4460 - accuracy: 0.7835\tSaved model on this epoch with max val_accuracy and min val_loss\n",
            "169/169 [==============================] - 1s 9ms/step - loss: 0.4465 - accuracy: 0.7829 - val_loss: 0.5063 - val_accuracy: 0.7503\n",
            "Epoch 17/50\n",
            "169/169 [==============================] - 1s 8ms/step - loss: 0.4407 - accuracy: 0.7900 - val_loss: 0.5159 - val_accuracy: 0.7361\n",
            "Epoch 18/50\n",
            "169/169 [==============================] - 2s 9ms/step - loss: 0.4247 - accuracy: 0.8030 - val_loss: 0.5223 - val_accuracy: 0.7290\n",
            "Epoch 19/50\n",
            "165/169 [============================>.] - ETA: 0s - loss: 0.4147 - accuracy: 0.8042\tSaved model on this epoch with max difference\n",
            "169/169 [==============================] - 1s 8ms/step - loss: 0.4143 - accuracy: 0.8054 - val_loss: 0.5228 - val_accuracy: 0.7562\n",
            "Epoch 20/50\n",
            "164/169 [============================>.] - ETA: 0s - loss: 0.4060 - accuracy: 0.8052\tSaved model on this epoch with max val_accuracy and min val_loss\n",
            "169/169 [==============================] - 2s 9ms/step - loss: 0.4104 - accuracy: 0.8045 - val_loss: 0.4981 - val_accuracy: 0.7645\n",
            "Epoch 21/50\n",
            "169/169 [==============================] - 1s 8ms/step - loss: 0.3890 - accuracy: 0.8196 - val_loss: 0.8109 - val_accuracy: 0.7101\n",
            "Epoch 22/50\n",
            "163/169 [===========================>..] - ETA: 0s - loss: 0.3837 - accuracy: 0.8252\tSaved model on this epoch with max difference\n",
            "169/169 [==============================] - 1s 8ms/step - loss: 0.3845 - accuracy: 0.8246 - val_loss: 0.5147 - val_accuracy: 0.7527\n",
            "Epoch 23/50\n",
            "169/169 [==============================] - 1s 8ms/step - loss: 0.3849 - accuracy: 0.8335 - val_loss: 0.6562 - val_accuracy: 0.7314\n",
            "Epoch 24/50\n",
            "167/169 [============================>.] - ETA: 0s - loss: 0.3692 - accuracy: 0.8314\tSaved model on this epoch with max difference\n",
            "169/169 [==============================] - 2s 9ms/step - loss: 0.3692 - accuracy: 0.8315 - val_loss: 0.5363 - val_accuracy: 0.7799\n",
            "Epoch 25/50\n",
            "169/169 [==============================] - 2s 9ms/step - loss: 0.3866 - accuracy: 0.8279 - val_loss: 0.5469 - val_accuracy: 0.7645\n",
            "Epoch 26/50\n",
            "169/169 [==============================] - 1s 8ms/step - loss: 0.3648 - accuracy: 0.8338 - val_loss: 0.5658 - val_accuracy: 0.7491\n",
            "Epoch 27/50\n",
            "167/169 [============================>.] - ETA: 0s - loss: 0.3498 - accuracy: 0.8494\tSaved model on this epoch with max difference\n",
            "169/169 [==============================] - 1s 9ms/step - loss: 0.3506 - accuracy: 0.8498 - val_loss: 0.5277 - val_accuracy: 0.7799\n",
            "Epoch 28/50\n",
            "169/169 [==============================] - 2s 9ms/step - loss: 0.3453 - accuracy: 0.8486 - val_loss: 0.5688 - val_accuracy: 0.7834\n",
            "Epoch 29/50\n",
            "169/169 [==============================] - 1s 8ms/step - loss: 0.3308 - accuracy: 0.8546 - val_loss: 0.5018 - val_accuracy: 0.7479\n",
            "Epoch 30/50\n",
            "162/169 [===========================>..] - ETA: 0s - loss: 0.3418 - accuracy: 0.8454\tSaved model on this epoch with max difference\n",
            "169/169 [==============================] - 1s 8ms/step - loss: 0.3467 - accuracy: 0.8439 - val_loss: 0.5166 - val_accuracy: 0.7704\n",
            "Epoch 31/50\n",
            "169/169 [==============================] - 1s 8ms/step - loss: 0.3164 - accuracy: 0.8608 - val_loss: 0.5743 - val_accuracy: 0.7503\n",
            "Epoch 32/50\n",
            "169/169 [==============================] - 1s 8ms/step - loss: 0.3216 - accuracy: 0.8617 - val_loss: 0.6216 - val_accuracy: 0.7704\n",
            "Epoch 33/50\n",
            "169/169 [==============================] - 2s 9ms/step - loss: 0.3063 - accuracy: 0.8691 - val_loss: 0.5345 - val_accuracy: 0.7550\n",
            "Epoch 34/50\n",
            "169/169 [==============================] - 1s 9ms/step - loss: 0.3182 - accuracy: 0.8646 - val_loss: 0.5540 - val_accuracy: 0.7645\n",
            "Epoch 35/50\n",
            "169/169 [==============================] - 1s 8ms/step - loss: 0.2937 - accuracy: 0.8703 - val_loss: 0.7468 - val_accuracy: 0.7231\n",
            "Epoch 36/50\n",
            "169/169 [==============================] - 1s 8ms/step - loss: 0.3001 - accuracy: 0.8735 - val_loss: 0.5705 - val_accuracy: 0.7917\n",
            "Epoch 37/50\n",
            "169/169 [==============================] - 2s 9ms/step - loss: 0.3018 - accuracy: 0.8706 - val_loss: 0.6171 - val_accuracy: 0.7763\n",
            "Epoch 38/50\n",
            "169/169 [==============================] - 1s 8ms/step - loss: 0.2943 - accuracy: 0.8729 - val_loss: 0.6005 - val_accuracy: 0.7870\n",
            "Epoch 39/50\n",
            "169/169 [==============================] - 2s 9ms/step - loss: 0.2892 - accuracy: 0.8747 - val_loss: 0.5707 - val_accuracy: 0.7811\n",
            "Epoch 40/50\n",
            "167/169 [============================>.] - ETA: 0s - loss: 0.2882 - accuracy: 0.8793\tSaved model on this epoch with max difference\n",
            "169/169 [==============================] - 2s 10ms/step - loss: 0.2885 - accuracy: 0.8791 - val_loss: 0.5032 - val_accuracy: 0.7811\n",
            "Epoch 41/50\n",
            "169/169 [==============================] - 2s 9ms/step - loss: 0.2946 - accuracy: 0.8744 - val_loss: 0.5667 - val_accuracy: 0.7598\n",
            "Epoch 42/50\n",
            "169/169 [==============================] - 1s 8ms/step - loss: 0.2903 - accuracy: 0.8738 - val_loss: 0.5309 - val_accuracy: 0.7704\n",
            "Epoch 43/50\n",
            "169/169 [==============================] - 1s 8ms/step - loss: 0.2841 - accuracy: 0.8815 - val_loss: 0.5420 - val_accuracy: 0.7846\n",
            "Epoch 44/50\n",
            "169/169 [==============================] - 1s 8ms/step - loss: 0.2671 - accuracy: 0.8871 - val_loss: 0.6434 - val_accuracy: 0.7964\n",
            "Epoch 45/50\n",
            "169/169 [==============================] - 1s 9ms/step - loss: 0.2696 - accuracy: 0.8895 - val_loss: 0.5787 - val_accuracy: 0.7787\n",
            "Epoch 46/50\n",
            "169/169 [==============================] - 1s 8ms/step - loss: 0.2718 - accuracy: 0.8895 - val_loss: 0.6222 - val_accuracy: 0.7893\n",
            "Epoch 47/50\n",
            "169/169 [==============================] - 1s 8ms/step - loss: 0.2847 - accuracy: 0.8765 - val_loss: 0.5191 - val_accuracy: 0.7953\n",
            "Epoch 48/50\n",
            "169/169 [==============================] - 1s 8ms/step - loss: 0.2627 - accuracy: 0.8913 - val_loss: 0.5576 - val_accuracy: 0.8059\n",
            "Epoch 49/50\n",
            "165/169 [============================>.] - ETA: 0s - loss: 0.2787 - accuracy: 0.8873\tSaved model on this epoch with max val_accuracy and min val_loss\n",
            "169/169 [==============================] - 2s 10ms/step - loss: 0.2785 - accuracy: 0.8871 - val_loss: 0.4714 - val_accuracy: 0.8036\n",
            "Epoch 50/50\n",
            "167/169 [============================>.] - ETA: 0s - loss: 0.2751 - accuracy: 0.8850\tSaved model on this epoch with max difference\n",
            "169/169 [==============================] - 2s 9ms/step - loss: 0.2756 - accuracy: 0.8848 - val_loss: 0.4973 - val_accuracy: 0.7882\n"
          ]
        }
      ],
      "source": [
        "# callback = tf.keras.callbacks.EarlyStopping(monitor='val_loss', patience=5, mode = \"min\")\n",
        "# def scheduler(epoch, lr):\n",
        "#   return lr * tf.math.exp(-0.1)\n",
        "\n",
        "# lr_callback = tf.keras.callbacks.LearningRateScheduler(scheduler)\n",
        "\n",
        "history = qc_model.fit(x_train, y_train, batch_size=20, epochs=50, validation_data = (x_val, y_val), callbacks=[keras.callbacks.LambdaCallback(on_epoch_end=saveModel)])"
      ]
    },
    {
      "cell_type": "code",
      "execution_count": null,
      "id": "22eca922",
      "metadata": {
        "colab": {
          "base_uri": "https://localhost:8080/",
          "height": 763
        },
        "id": "22eca922",
        "outputId": "a24ecdf6-7c93-4caa-a0bc-ced38f155eef"
      },
      "outputs": [
        {
          "output_type": "display_data",
          "data": {
            "text/plain": [
              "<Figure size 576x432 with 1 Axes>"
            ],
            "image/png": "[encoded data removed]"
          },
          "metadata": {
            "needs_background": "light"
          }
        },
        {
          "output_type": "display_data",
          "data": {
            "text/plain": [
              "<Figure size 576x432 with 1 Axes>"
            ],
            "image/png": "[encoded data removed]"
          },
          "metadata": {
            "needs_background": "light"
          }
        }
      ],
      "source": [
        "acc = history.history['accuracy']\n",
        "val_acc = history.history['val_accuracy']\n",
        "\n",
        "loss = history.history['loss']\n",
        "val_loss = history.history['val_loss']\n",
        "\n",
        "epochs_range = range(len(history.history['loss']))\n",
        "\n",
        "index = val_acc.index(best_val_acc)\n",
        "\n",
        "plt.figure(figsize=(8, 6))\n",
        "plt.plot(epochs_range, acc, label='Training Accuracy')\n",
        "plt.plot(epochs_range, val_acc, '-gD', markevery=[index], label='Validation Accuracy')\n",
        "plt.legend(loc='best')\n",
        "plt.title('Training and Validation Accuracy')\n",
        "# plt.savefig('accuracy.png')\n",
        "plt.show()\n",
        "\n",
        "index = val_loss.index(best_val_loss)\n",
        "\n",
        "plt.figure(figsize=(8, 6))\n",
        "plt.plot(epochs_range, loss, label='Training Loss')\n",
        "plt.plot(epochs_range, val_loss, '-gD', markevery=[index], label='Validation Loss')\n",
        "plt.legend(loc='best')\n",
        "plt.title('Training and Validation Loss')\n",
        "# plt.savefig('loss.png')\n",
        "plt.show()"
      ]
    },
    {
      "cell_type": "code",
      "execution_count": null,
      "id": "bffde91f",
      "metadata": {
        "colab": {
          "base_uri": "https://localhost:8080/"
        },
        "id": "bffde91f",
        "outputId": "519365c4-f239-44b4-a42d-106038c6ddfc"
      },
      "outputs": [
        {
          "output_type": "stream",
          "name": "stdout",
          "text": [
            "Model: \"sequential_13\"\n",
            "_________________________________________________________________\n",
            " Layer (type)                Output Shape              Param #   \n",
            "=================================================================\n",
            " conv1d_48 (Conv1D)          (None, 599, 16)           1616      \n",
            "                                                                 \n",
            " batch_normalization_23 (Bat  (None, 599, 16)          64        \n",
            " chNormalization)                                                \n",
            "                                                                 \n",
            " max_pooling1d_26 (MaxPoolin  (None, 299, 16)          0         \n",
            " g1D)                                                            \n",
            "                                                                 \n",
            " conv1d_49 (Conv1D)          (None, 56, 32)            10272     \n",
            "                                                                 \n",
            " batch_normalization_24 (Bat  (None, 56, 32)           128       \n",
            " chNormalization)                                                \n",
            "                                                                 \n",
            " max_pooling1d_27 (MaxPoolin  (None, 28, 32)           0         \n",
            " g1D)                                                            \n",
            "                                                                 \n",
            " dropout_13 (Dropout)        (None, 28, 32)            0         \n",
            "                                                                 \n",
            " conv1d_50 (Conv1D)          (None, 3, 64)             41024     \n",
            "                                                                 \n",
            " batch_normalization_25 (Bat  (None, 3, 64)            256       \n",
            " chNormalization)                                                \n",
            "                                                                 \n",
            " conv1d_51 (Conv1D)          (None, 3, 128)            24704     \n",
            "                                                                 \n",
            " flatten_1 (Flatten)         (None, 384)               0         \n",
            "                                                                 \n",
            " dropout_14 (Dropout)        (None, 384)               0         \n",
            "                                                                 \n",
            " dense_26 (Dense)            (None, 16)                6160      \n",
            "                                                                 \n",
            " dense_27 (Dense)            (None, 1)                 17        \n",
            "                                                                 \n",
            "=================================================================\n",
            "Total params: 84,241\n",
            "Trainable params: 84,017\n",
            "Non-trainable params: 224\n",
            "_________________________________________________________________\n"
          ]
        }
      ],
      "source": [
        "model = keras.models.load_model(\"/content/drive/MyDrive/qc_model_best1_2.h5\")\n",
        "model.summary()"
      ]
    },
    {
      "cell_type": "code",
      "execution_count": null,
      "id": "fbff89a3",
      "metadata": {
        "colab": {
          "base_uri": "https://localhost:8080/"
        },
        "id": "fbff89a3",
        "outputId": "abfc7431-2514-4f96-8d92-1e24c4e564ea"
      },
      "outputs": [
        {
          "output_type": "stream",
          "name": "stdout",
          "text": [
            "33/33 [==============================] - 0s 4ms/step\n",
            "Predictions:  [1 0 1 ... 0 0 0]\n",
            "\n",
            "True Labels:  [1 0 1 ... 0 0 0]\n"
          ]
        }
      ],
      "source": [
        "predictions = model.predict(x_test)\n",
        "predictions = predictions.flatten()\n",
        "predictions[predictions >= 0.5] = 1.0\n",
        "predictions[predictions < 0.5] = 0.0\n",
        "predictions = np.int32(predictions)\n",
        "print(\"Predictions: \", predictions)\n",
        "print(\"\\nTrue Labels: \", y_test)"
      ]
    },
    {
      "cell_type": "code",
      "execution_count": null,
      "id": "51f8906c",
      "metadata": {
        "colab": {
          "base_uri": "https://localhost:8080/",
          "height": 358
        },
        "id": "51f8906c",
        "outputId": "b6e9b87e-88b4-453c-9024-726abc153e05"
      },
      "outputs": [
        {
          "output_type": "display_data",
          "data": {
            "text/plain": [
              "<Figure size 360x360 with 1 Axes>"
            ],
            "image/png": "[encoded data removed]"
          },
          "metadata": {
            "needs_background": "light"
          }
        }
      ],
      "source": [
        "from sklearn import metrics\n",
        "# Confusion Matrix\n",
        "conf_matrix = metrics.confusion_matrix(y_true=y_test, y_pred=predictions)\n",
        "tn, fp, fn, tp = conf_matrix.ravel()\n",
        "\n",
        "fig, ax = plt.subplots(figsize=(5, 5))\n",
        "ax.matshow(conf_matrix, alpha=0.3)\n",
        "for i in range(conf_matrix.shape[0]):\n",
        "    for j in range(conf_matrix.shape[1]):\n",
        "        ax.text(x=j, y=i,s=conf_matrix[i, j], va='center', ha='center', size='xx-large')\n",
        " \n",
        "plt.xlabel('Predictions', fontsize=18)\n",
        "plt.ylabel('Actuals', fontsize=18)\n",
        "plt.title('Confusion Matrix', fontsize=18)\n",
        "plt.show()\n",
        "# plt.savefig('confusion_matrix.png')"
      ]
    },
    {
      "cell_type": "code",
      "execution_count": null,
      "id": "bf9ff96c",
      "metadata": {
        "colab": {
          "base_uri": "https://localhost:8080/"
        },
        "id": "bf9ff96c",
        "outputId": "a6533b59-9335-4aca-ea50-3aa64de56044"
      },
      "outputs": [
        {
          "output_type": "stream",
          "name": "stdout",
          "text": [
            "Precision: 0.911\n",
            "Recall: 0.921\n",
            "Accuracy: 0.909\n",
            "F1 Score: 0.916\n",
            "Specificity:  0.8957055214723927\n",
            "Sensitivity:  0.9206349206349206\n"
          ]
        }
      ],
      "source": [
        "# Precision, Recall, Accuracy, F1-Score\n",
        "\t\n",
        "print('Precision: %.3f' % metrics.precision_score(y_test, predictions))\n",
        "print('Recall: %.3f' % metrics.recall_score(y_test, predictions))\n",
        "print('Accuracy: %.3f' % metrics.accuracy_score(y_test, predictions))\n",
        "print('F1 Score: %.3f' % metrics.f1_score(y_test, predictions))\n",
        "\n",
        "specificity = tn / (tn+fp)\n",
        "print('Specificity: ', specificity)\n",
        "sensitivity = tp / (tp+fn)\n",
        "print('Sensitivity: ', sensitivity)"
      ]
    },
    {
      "cell_type": "code",
      "execution_count": null,
      "id": "dca95fa3",
      "metadata": {
        "colab": {
          "base_uri": "https://localhost:8080/",
          "height": 407
        },
        "id": "dca95fa3",
        "outputId": "118bebdd-7c69-4931-e3be-373683dbdf16"
      },
      "outputs": [
        {
          "output_type": "stream",
          "name": "stdout",
          "text": [
            "AUC Value:  0.9081702210536566\n"
          ]
        },
        {
          "output_type": "display_data",
          "data": {
            "text/plain": [
              "<Figure size 576x432 with 1 Axes>"
            ],
            "image/png": "[encoded data removed]"
          },
          "metadata": {
            "needs_background": "light"
          }
        }
      ],
      "source": [
        "# ROC Curve and AUC value\n",
        "nn_fpr_keras, nn_tpr_keras, nn_thresholds_keras = metrics.roc_curve(y_test, predictions)\n",
        "auc_keras = metrics.auc(nn_fpr_keras, nn_tpr_keras)\n",
        "print(\"AUC Value: \",auc_keras)\n",
        "plt.figure(figsize=(8, 6))\n",
        "plt.plot(nn_fpr_keras, nn_tpr_keras, marker='.', label='Neural Network (auc = {})'.format(round(auc_keras,3)))\n",
        "plt.legend(loc='best')\n",
        "plt.title('ROC Curve')\n",
        "plt.show()\n",
        "# plt.savefig('roc_curve.png')"
      ]
    },
    {
      "cell_type": "markdown",
      "source": [
        "## Different Train-Test-Split"
      ],
      "metadata": {
        "id": "m50CFAcMlOtM"
      },
      "id": "m50CFAcMlOtM"
    },
    {
      "cell_type": "code",
      "source": [
        "import gc\n",
        "import os"
      ],
      "metadata": {
        "id": "Vb0johjVU4VC"
      },
      "id": "Vb0johjVU4VC",
      "execution_count": null,
      "outputs": []
    },
    {
      "cell_type": "code",
      "source": [
        "def get_name(index):\n",
        "  if index == 0:\n",
        "    return \"Adam at LR- 0.01\"\n",
        "  elif index == 1:\n",
        "    return \"Adam at LR- 0.001\"\n",
        "  elif index == 2:\n",
        "    return \"RMSProp at LR- 0.01\"\n",
        "  elif index == 3:\n",
        "    return \"RMSProp at LR- 0.001\"\n",
        "  elif index == 4:\n",
        "    return \"SGD\""
      ],
      "metadata": {
        "id": "Gqns0KMAMXlk"
      },
      "id": "Gqns0KMAMXlk",
      "execution_count": null,
      "outputs": []
    },
    {
      "cell_type": "code",
      "source": [
        "dir = \"Plots/\"\n",
        "os.makedirs(dir, exist_ok = True)\n",
        "\n",
        "adam1 = keras.optimizers.Adam(learning_rate = 0.01)\n",
        "adam2 = keras.optimizers.Adam(learning_rate = 0.001)\n",
        "rmsprop1 = keras.optimizers.RMSprop(learning_rate = 0.01)\n",
        "rmsprop2 = keras.optimizers.RMSprop(learning_rate = 0.01)\n",
        "sgd = keras.optimizers.SGD()\n",
        "\n",
        "optimizers = [adam1, adam2, rmsprop1, rmsprop2, sgd]\n",
        "\n",
        "for i in [0.7, 0.8, 0.9]:\n",
        "  print(\"============== Training Split: {} ====================\".format(i))\n",
        "  x_val_train, x_test, y_val_train, y_test = train_test_split(x_data,y_data,test_size=1-i,train_size=i)\n",
        "  x_train, x_val, y_train, y_val = train_test_split(x_val_train,y_val_train,test_size=1-i,train_size=i)\n",
        "  print(\"Training Data Shape: \", x_train.shape)\n",
        "  print(\"Training Label Shape: \", y_train.shape)\n",
        "  print(\"Validation Data Shape: \", x_val.shape)\n",
        "  print(\"Validation Label Shape: \", y_val.shape)\n",
        "  print(\"Test Data Shape: \", x_test.shape)\n",
        "  print(\"Test Label Shape: \", y_test.shape)\n",
        "\n",
        "  del x_val_train, y_val_train, x_test, y_test\n",
        "  gc.collect()\n",
        "\n",
        "  for optim in optimizers:\n",
        "    index = optimizers.index(optim)\n",
        "    print(\"Processing Request - \", get_name(index))\n",
        "    qc_model = keras.models.Sequential([\n",
        "        keras.layers.Conv1D(28, 20, strides = 10, input_shape = (6000,5), activation='relu'),\n",
        "        keras.layers.GlobalAvgPool1D(),\n",
        "        keras.layers.Dropout(0.5),\n",
        "        keras.layers.Dense(1, activation = \"sigmoid\")\n",
        "    ])\n",
        "    qc_model.compile(loss = keras.losses.BinaryCrossentropy(), \n",
        "                    optimizer = optim, metrics = [\"accuracy\"])\n",
        "    # training the model\n",
        "    history = qc_model.fit(x_train, y_train, batch_size=30, epochs=50, validation_data = (x_val, y_val), verbose = 0)\n",
        "\n",
        "    del qc_model\n",
        "    gc.collect()\n",
        "\n",
        "    # plotting the graph\n",
        "    acc = history.history['accuracy']\n",
        "    val_acc = history.history['val_accuracy']\n",
        "\n",
        "    loss = history.history['loss']\n",
        "    val_loss = history.history['val_loss']\n",
        "\n",
        "    epochs_range = range(len(history.history['loss']))\n",
        "\n",
        "    plt.figure(figsize=(8, 6))\n",
        "    plt.plot(epochs_range, acc, label='Training Accuracy')\n",
        "    plt.plot(epochs_range, val_acc, label='Validation Accuracy')\n",
        "    plt.legend(loc='best')\n",
        "    plt.title('Training and Validation Accuracy')\n",
        "    name = dir + 'accuracy_{}_{}_{}.png'.format(get_name(index),i,1-i)\n",
        "    plt.savefig(name)\n",
        "    plt.clf()\n",
        "\n",
        "    plt.figure(figsize=(8, 6))\n",
        "    plt.plot(epochs_range, loss, label='Training Loss')\n",
        "    plt.plot(epochs_range, val_loss, label='Validation Loss')\n",
        "    plt.legend(loc='best')\n",
        "    plt.title('Training and Validation Loss')\n",
        "    name = dir + 'loss_{}_{}_{}.png'.format(get_name(index),i,1-i)\n",
        "    plt.savefig(name)\n",
        "    plt.clf()\n",
        "\n",
        "    del history, acc, val_acc, loss, val_loss, name, epochs_range\n",
        "    gc.collect()\n",
        "  del x_train, x_val, y_train, y_val\n",
        "  gc.collect()"
      ],
      "metadata": {
        "colab": {
          "base_uri": "https://localhost:8080/",
          "height": 1000
        },
        "id": "lGnbLjGiLyE6",
        "outputId": "7976e58f-b29b-4f36-a46e-218df64c162a"
      },
      "id": "lGnbLjGiLyE6",
      "execution_count": null,
      "outputs": [
        {
          "output_type": "stream",
          "name": "stdout",
          "text": [
            "============== Training Split: 0.7 ====================\n",
            "Training Data Shape:  (2585, 6000, 5)\n",
            "Training Label Shape:  (2585,)\n",
            "Validation Data Shape:  (1108, 6000, 5)\n",
            "Validation Label Shape:  (1108,)\n",
            "Test Data Shape:  (1584, 6000, 5)\n",
            "Test Label Shape:  (1584,)\n",
            "Processing Request -  Adam at LR- 0.01\n",
            "Processing Request -  Adam at LR- 0.001\n",
            "Processing Request -  RMSProp at LR- 0.01\n",
            "Processing Request -  RMSProp at LR- 0.001\n",
            "Processing Request -  SGD\n",
            "============== Training Split: 0.8 ====================\n",
            "Training Data Shape:  (3376, 6000, 5)\n",
            "Training Label Shape:  (3376,)\n",
            "Validation Data Shape:  (845, 6000, 5)\n",
            "Validation Label Shape:  (845,)\n",
            "Test Data Shape:  (1056, 6000, 5)\n",
            "Test Label Shape:  (1056,)\n",
            "Processing Request -  Adam at LR- 0.01\n",
            "Processing Request -  Adam at LR- 0.001\n",
            "Processing Request -  RMSProp at LR- 0.01\n",
            "Processing Request -  RMSProp at LR- 0.001\n",
            "Processing Request -  SGD\n",
            "============== Training Split: 0.9 ====================\n",
            "Training Data Shape:  (4274, 6000, 5)\n",
            "Training Label Shape:  (4274,)\n",
            "Validation Data Shape:  (475, 6000, 5)\n",
            "Validation Label Shape:  (475,)\n",
            "Test Data Shape:  (528, 6000, 5)\n",
            "Test Label Shape:  (528,)\n",
            "Processing Request -  Adam at LR- 0.01\n"
          ]
        },
        {
          "output_type": "stream",
          "name": "stderr",
          "text": [
            "/usr/local/lib/python3.7/dist-packages/ipykernel_launcher.py:52: RuntimeWarning: More than 20 figures have been opened. Figures created through the pyplot interface (`matplotlib.pyplot.figure`) are retained until explicitly closed and may consume too much memory. (To control this warning, see the rcParam `figure.max_open_warning`).\n",
            "/usr/local/lib/python3.7/dist-packages/ipykernel_launcher.py:61: RuntimeWarning: More than 20 figures have been opened. Figures created through the pyplot interface (`matplotlib.pyplot.figure`) are retained until explicitly closed and may consume too much memory. (To control this warning, see the rcParam `figure.max_open_warning`).\n"
          ]
        },
        {
          "output_type": "stream",
          "name": "stdout",
          "text": [
            "Processing Request -  Adam at LR- 0.001\n",
            "Processing Request -  RMSProp at LR- 0.01\n",
            "Processing Request -  RMSProp at LR- 0.001\n",
            "Processing Request -  SGD\n"
          ]
        },
        {
          "output_type": "display_data",
          "data": {
            "text/plain": [
              "<Figure size 576x432 with 0 Axes>"
            ]
          },
          "metadata": {}
        },
        {
          "output_type": "display_data",
          "data": {
            "text/plain": [
              "<Figure size 576x432 with 0 Axes>"
            ]
          },
          "metadata": {}
        },
        {
          "output_type": "display_data",
          "data": {
            "text/plain": [
              "<Figure size 576x432 with 0 Axes>"
            ]
          },
          "metadata": {}
        },
        {
          "output_type": "display_data",
          "data": {
            "text/plain": [
              "<Figure size 576x432 with 0 Axes>"
            ]
          },
          "metadata": {}
        },
        {
          "output_type": "display_data",
          "data": {
            "text/plain": [
              "<Figure size 576x432 with 0 Axes>"
            ]
          },
          "metadata": {}
        },
        {
          "output_type": "display_data",
          "data": {
            "text/plain": [
              "<Figure size 576x432 with 0 Axes>"
            ]
          },
          "metadata": {}
        },
        {
          "output_type": "display_data",
          "data": {
            "text/plain": [
              "<Figure size 576x432 with 0 Axes>"
            ]
          },
          "metadata": {}
        },
        {
          "output_type": "display_data",
          "data": {
            "text/plain": [
              "<Figure size 576x432 with 0 Axes>"
            ]
          },
          "metadata": {}
        },
        {
          "output_type": "display_data",
          "data": {
            "text/plain": [
              "<Figure size 576x432 with 0 Axes>"
            ]
          },
          "metadata": {}
        },
        {
          "output_type": "display_data",
          "data": {
            "text/plain": [
              "<Figure size 576x432 with 0 Axes>"
            ]
          },
          "metadata": {}
        },
        {
          "output_type": "display_data",
          "data": {
            "text/plain": [
              "<Figure size 576x432 with 0 Axes>"
            ]
          },
          "metadata": {}
        },
        {
          "output_type": "display_data",
          "data": {
            "text/plain": [
              "<Figure size 576x432 with 0 Axes>"
            ]
          },
          "metadata": {}
        },
        {
          "output_type": "display_data",
          "data": {
            "text/plain": [
              "<Figure size 576x432 with 0 Axes>"
            ]
          },
          "metadata": {}
        },
        {
          "output_type": "display_data",
          "data": {
            "text/plain": [
              "<Figure size 576x432 with 0 Axes>"
            ]
          },
          "metadata": {}
        },
        {
          "output_type": "display_data",
          "data": {
            "text/plain": [
              "<Figure size 576x432 with 0 Axes>"
            ]
          },
          "metadata": {}
        },
        {
          "output_type": "display_data",
          "data": {
            "text/plain": [
              "<Figure size 576x432 with 0 Axes>"
            ]
          },
          "metadata": {}
        },
        {
          "output_type": "display_data",
          "data": {
            "text/plain": [
              "<Figure size 576x432 with 0 Axes>"
            ]
          },
          "metadata": {}
        },
        {
          "output_type": "display_data",
          "data": {
            "text/plain": [
              "<Figure size 576x432 with 0 Axes>"
            ]
          },
          "metadata": {}
        },
        {
          "output_type": "display_data",
          "data": {
            "text/plain": [
              "<Figure size 576x432 with 0 Axes>"
            ]
          },
          "metadata": {}
        },
        {
          "output_type": "display_data",
          "data": {
            "text/plain": [
              "<Figure size 576x432 with 0 Axes>"
            ]
          },
          "metadata": {}
        },
        {
          "output_type": "display_data",
          "data": {
            "text/plain": [
              "<Figure size 576x432 with 0 Axes>"
            ]
          },
          "metadata": {}
        },
        {
          "output_type": "display_data",
          "data": {
            "text/plain": [
              "<Figure size 576x432 with 0 Axes>"
            ]
          },
          "metadata": {}
        },
        {
          "output_type": "display_data",
          "data": {
            "text/plain": [
              "<Figure size 576x432 with 0 Axes>"
            ]
          },
          "metadata": {}
        },
        {
          "output_type": "display_data",
          "data": {
            "text/plain": [
              "<Figure size 576x432 with 0 Axes>"
            ]
          },
          "metadata": {}
        },
        {
          "output_type": "display_data",
          "data": {
            "text/plain": [
              "<Figure size 576x432 with 0 Axes>"
            ]
          },
          "metadata": {}
        },
        {
          "output_type": "display_data",
          "data": {
            "text/plain": [
              "<Figure size 576x432 with 0 Axes>"
            ]
          },
          "metadata": {}
        },
        {
          "output_type": "display_data",
          "data": {
            "text/plain": [
              "<Figure size 576x432 with 0 Axes>"
            ]
          },
          "metadata": {}
        },
        {
          "output_type": "display_data",
          "data": {
            "text/plain": [
              "<Figure size 576x432 with 0 Axes>"
            ]
          },
          "metadata": {}
        },
        {
          "output_type": "display_data",
          "data": {
            "text/plain": [
              "<Figure size 576x432 with 0 Axes>"
            ]
          },
          "metadata": {}
        },
        {
          "output_type": "display_data",
          "data": {
            "text/plain": [
              "<Figure size 576x432 with 0 Axes>"
            ]
          },
          "metadata": {}
        }
      ]
    },
    {
      "cell_type": "code",
      "execution_count": null,
      "id": "8c020e9e",
      "metadata": {
        "id": "8c020e9e",
        "colab": {
          "base_uri": "https://localhost:8080/"
        },
        "outputId": "40837466-8dda-4db4-954a-c4c799b7dbd9"
      },
      "outputs": [
        {
          "output_type": "stream",
          "name": "stdout",
          "text": [
            "  adding: content/Plots/ (stored 0%)\n",
            "  adding: content/Plots/loss_Adam at LR- 0.001_0.7_0.30000000000000004.png (deflated 6%)\n",
            "  adding: content/Plots/loss_Adam at LR- 0.001_0.8_0.19999999999999996.png (deflated 7%)\n",
            "  adding: content/Plots/accuracy_RMSProp at LR- 0.01_0.7_0.30000000000000004.png (deflated 4%)\n",
            "  adding: content/Plots/loss_RMSProp at LR- 0.001_0.9_0.09999999999999998.png (deflated 5%)\n",
            "  adding: content/Plots/accuracy_Adam at LR- 0.01_0.9_0.09999999999999998.png (deflated 6%)\n",
            "  adding: content/Plots/loss_RMSProp at LR- 0.01_0.7_0.30000000000000004.png (deflated 4%)\n",
            "  adding: content/Plots/accuracy_SGD_0.8_0.19999999999999996.png (deflated 6%)\n",
            "  adding: content/Plots/accuracy_RMSProp at LR- 0.01_0.8_0.19999999999999996.png (deflated 5%)\n",
            "  adding: content/Plots/accuracy_Adam at LR- 0.01_0.7_0.30000000000000004.png (deflated 4%)\n",
            "  adding: content/Plots/accuracy_Adam at LR- 0.001_0.8_0.19999999999999996.png (deflated 6%)\n",
            "  adding: content/Plots/accuracy_SGD_0.7_0.30000000000000004.png (deflated 6%)\n",
            "  adding: content/Plots/accuracy_RMSProp at LR- 0.001_0.8_0.19999999999999996.png (deflated 6%)\n",
            "  adding: content/Plots/loss_RMSProp at LR- 0.001_0.7_0.30000000000000004.png (deflated 6%)\n",
            "  adding: content/Plots/accuracy_RMSProp at LR- 0.001_0.9_0.09999999999999998.png (deflated 7%)\n",
            "  adding: content/Plots/accuracy_RMSProp at LR- 0.01_0.9_0.09999999999999998.png (deflated 6%)\n",
            "  adding: content/Plots/accuracy_SGD_0.9_0.09999999999999998.png (deflated 6%)\n",
            "  adding: content/Plots/loss_RMSProp at LR- 0.001_0.8_0.19999999999999996.png (deflated 6%)\n",
            "  adding: content/Plots/loss_RMSProp at LR- 0.01_0.9_0.09999999999999998.png (deflated 6%)\n",
            "  adding: content/Plots/loss_Adam at LR- 0.001_0.9_0.09999999999999998.png (deflated 6%)\n",
            "  adding: content/Plots/loss_RMSProp at LR- 0.01_0.8_0.19999999999999996.png (deflated 5%)\n",
            "  adding: content/Plots/loss_Adam at LR- 0.01_0.9_0.09999999999999998.png (deflated 6%)\n",
            "  adding: content/Plots/loss_SGD_0.8_0.19999999999999996.png (deflated 6%)\n",
            "  adding: content/Plots/loss_Adam at LR- 0.01_0.8_0.19999999999999996.png (deflated 6%)\n",
            "  adding: content/Plots/loss_SGD_0.9_0.09999999999999998.png (deflated 7%)\n",
            "  adding: content/Plots/loss_SGD_0.7_0.30000000000000004.png (deflated 7%)\n",
            "  adding: content/Plots/accuracy_Adam at LR- 0.01_0.8_0.19999999999999996.png (deflated 6%)\n",
            "  adding: content/Plots/loss_Adam at LR- 0.01_0.7_0.30000000000000004.png (deflated 5%)\n",
            "  adding: content/Plots/accuracy_RMSProp at LR- 0.001_0.7_0.30000000000000004.png (deflated 5%)\n",
            "  adding: content/Plots/accuracy_Adam at LR- 0.001_0.7_0.30000000000000004.png (deflated 5%)\n",
            "  adding: content/Plots/accuracy_Adam at LR- 0.001_0.9_0.09999999999999998.png (deflated 5%)\n"
          ]
        }
      ],
      "source": [
        "!zip -r /content/plots.zip /content/Plots"
      ]
    },
    {
      "cell_type": "code",
      "source": [
        "from google.colab import files\n",
        "files.download(\"/content/plots.zip\")"
      ],
      "metadata": {
        "colab": {
          "base_uri": "https://localhost:8080/",
          "height": 17
        },
        "id": "3H_C53rTUd-Z",
        "outputId": "4d056312-3f6c-4004-89d5-9d3a1d758221"
      },
      "id": "3H_C53rTUd-Z",
      "execution_count": null,
      "outputs": [
        {
          "output_type": "display_data",
          "data": {
            "text/plain": [
              "<IPython.core.display.Javascript object>"
            ],
            "application/javascript": [
              "\n",
              "    async function download(id, filename, size) {\n",
              "      if (!google.colab.kernel.accessAllowed) {\n",
              "        return;\n",
              "      }\n",
              "      const div = document.createElement('div');\n",
              "      const label = document.createElement('label');\n",
              "      label.textContent = `Downloading \"${filename}\": `;\n",
              "      div.appendChild(label);\n",
              "      const progress = document.createElement('progress');\n",
              "      progress.max = size;\n",
              "      div.appendChild(progress);\n",
              "      document.body.appendChild(div);\n",
              "\n",
              "      const buffers = [];\n",
              "      let downloaded = 0;\n",
              "\n",
              "      const channel = await google.colab.kernel.comms.open(id);\n",
              "      // Send a message to notify the kernel that we're ready.\n",
              "      channel.send({})\n",
              "\n",
              "      for await (const message of channel.messages) {\n",
              "        // Send a message to notify the kernel that we're ready.\n",
              "        channel.send({})\n",
              "        if (message.buffers) {\n",
              "          for (const buffer of message.buffers) {\n",
              "            buffers.push(buffer);\n",
              "            downloaded += buffer.byteLength;\n",
              "            progress.value = downloaded;\n",
              "          }\n",
              "        }\n",
              "      }\n",
              "      const blob = new Blob(buffers, {type: 'application/binary'});\n",
              "      const a = document.createElement('a');\n",
              "      a.href = window.URL.createObjectURL(blob);\n",
              "      a.download = filename;\n",
              "      div.appendChild(a);\n",
              "      a.click();\n",
              "      div.remove();\n",
              "    }\n",
              "  "
            ]
          },
          "metadata": {}
        },
        {
          "output_type": "display_data",
          "data": {
            "text/plain": [
              "<IPython.core.display.Javascript object>"
            ],
            "application/javascript": [
              "download(\"download_152604e8-8ff2-4cd9-8917-7629a3e25744\", \"plots.zip\", 918468)"
            ]
          },
          "metadata": {}
        }
      ]
    },
    {
      "cell_type": "markdown",
      "id": "8a59ca4d",
      "metadata": {
        "id": "8a59ca4d"
      },
      "source": [
        "# Stroke Model"
      ]
    },
    {
      "cell_type": "code",
      "source": [
        "with zipfile.ZipFile(\"/content/drive/MyDrive/Stroke Dataset.zip\", 'r') as zip_ref:\n",
        "    zip_ref.extractall(\"\")"
      ],
      "metadata": {
        "id": "b8v8SyUO7qqn"
      },
      "execution_count": 3,
      "outputs": [],
      "id": "b8v8SyUO7qqn"
    },
    {
      "cell_type": "code",
      "execution_count": 4,
      "metadata": {
        "scrolled": false,
        "id": "qpMnsqNM7qqo"
      },
      "outputs": [],
      "source": [
        "x_data = []\n",
        "y_data = []\n",
        "df = pd.read_csv(\"Stroke Dataset/labels.csv\")\n",
        "for _, row in df.iterrows():\n",
        "    data = np.load(\"Stroke Dataset/{}\".format(row[\"File\"]))\n",
        "    x_data.append(data)\n",
        "    y_data.append(row[\"Label\"])"
      ],
      "id": "qpMnsqNM7qqo"
    },
    {
      "cell_type": "code",
      "execution_count": 5,
      "metadata": {
        "colab": {
          "base_uri": "https://localhost:8080/"
        },
        "outputId": "b41115be-2f89-4a3c-c641-b7a7b615cc2b",
        "id": "D36E3sUs7qqo"
      },
      "outputs": [
        {
          "output_type": "stream",
          "name": "stdout",
          "text": [
            "(2723, 6000, 5)\n",
            "(2723,)\n"
          ]
        }
      ],
      "source": [
        "x_data = np.array(x_data)\n",
        "y_data = np.array(y_data)\n",
        "print(x_data.shape)\n",
        "print(y_data.shape)"
      ],
      "id": "D36E3sUs7qqo"
    },
    {
      "cell_type": "code",
      "source": [
        "x_val_train, x_test, y_val_train, y_test = train_test_split(x_data,y_data,test_size=0.2,train_size=0.8)\n",
        "x_train, x_val, y_train, y_val = train_test_split(x_val_train,y_val_train,test_size=0.2,train_size=0.8)\n",
        "print(x_train.shape)\n",
        "print(y_train.shape)\n",
        "print(x_val.shape)\n",
        "print(y_val.shape)\n",
        "print(x_test.shape)\n",
        "print(y_test.shape)"
      ],
      "metadata": {
        "colab": {
          "base_uri": "https://localhost:8080/"
        },
        "outputId": "f7211fbb-bd07-460c-c2c2-9f00a1719c07",
        "id": "5nuwOQ0x7qqp"
      },
      "execution_count": 6,
      "outputs": [
        {
          "output_type": "stream",
          "name": "stdout",
          "text": [
            "(1742, 6000, 5)\n",
            "(1742,)\n",
            "(436, 6000, 5)\n",
            "(436,)\n",
            "(545, 6000, 5)\n",
            "(545,)\n"
          ]
        }
      ],
      "id": "5nuwOQ0x7qqp"
    },
    {
      "cell_type": "code",
      "execution_count": 7,
      "id": "10b42004",
      "metadata": {
        "id": "10b42004",
        "outputId": "8b56c10f-4045-4612-885b-1776273b57ea",
        "colab": {
          "base_uri": "https://localhost:8080/"
        }
      },
      "outputs": [
        {
          "output_type": "stream",
          "name": "stdout",
          "text": [
            "Model: \"sequential\"\n",
            "_________________________________________________________________\n",
            " Layer (type)                Output Shape              Param #   \n",
            "=================================================================\n",
            " conv1d (Conv1D)             (None, 744, 32)           8032      \n",
            "                                                                 \n",
            " max_pooling1d (MaxPooling1D  (None, 372, 32)          0         \n",
            " )                                                               \n",
            "                                                                 \n",
            " conv1d_1 (Conv1D)           (None, 47, 64)            102464    \n",
            "                                                                 \n",
            " max_pooling1d_1 (MaxPooling  (None, 23, 64)           0         \n",
            " 1D)                                                             \n",
            "                                                                 \n",
            " conv1d_2 (Conv1D)           (None, 3, 64)             204864    \n",
            "                                                                 \n",
            " global_average_pooling1d (G  (None, 64)               0         \n",
            " lobalAveragePooling1D)                                          \n",
            "                                                                 \n",
            " dropout (Dropout)           (None, 64)                0         \n",
            "                                                                 \n",
            " dense (Dense)               (None, 1)                 65        \n",
            "                                                                 \n",
            "=================================================================\n",
            "Total params: 315,425\n",
            "Trainable params: 315,425\n",
            "Non-trainable params: 0\n",
            "_________________________________________________________________\n"
          ]
        }
      ],
      "source": [
        "stroke_model = keras.models.Sequential([\n",
        "    keras.layers.Conv1D(32, 50, strides = 8, input_shape = (6000,5), activation='relu'),\n",
        "    keras.layers.MaxPooling1D(),\n",
        "    keras.layers.Conv1D(64, 50, strides = 8, input_shape = (6000,5), activation='relu', padding = \"same\"),\n",
        "    keras.layers.MaxPooling1D(),\n",
        "    keras.layers.Conv1D(64, 50, strides = 8, input_shape = (6000,5), activation='relu', padding = \"same\"),\n",
        "    keras.layers.GlobalAvgPool1D(),\n",
        "    keras.layers.Dropout(0.5),\n",
        "    keras.layers.Dense(1, activation = \"sigmoid\")\n",
        "])\n",
        "stroke_model.summary()"
      ]
    },
    {
      "cell_type": "code",
      "execution_count": 8,
      "id": "d7845dc0",
      "metadata": {
        "id": "d7845dc0"
      },
      "outputs": [],
      "source": [
        "stroke_model.compile(loss = keras.losses.BinaryCrossentropy(), \n",
        "              optimizer = \"adam\", metrics = [\"accuracy\"])"
      ]
    },
    {
      "cell_type": "code",
      "source": [
        "# Callback\n",
        "\n",
        "best_val_acc = 0\n",
        "best_val_loss = 10\n",
        "diff = 0\n",
        "\n",
        "def saveModel(epoch,logs):\n",
        "    global best_val_acc, best_val_loss, diff\n",
        "    val_acc = logs['val_accuracy']\n",
        "    val_loss = logs['val_loss']\n",
        "    diff1 = val_acc - val_loss\n",
        "\n",
        "    if val_acc > best_val_acc and val_loss < best_val_loss:\n",
        "        best_val_acc = val_acc\n",
        "        best_val_loss=val_loss\n",
        "        stroke_model.save(\"/content/drive/MyDrive/stroke_model_best1.h5\")\n",
        "        print(\"\\tSaved model on this epoch with max val_accuracy and min val_loss\")\n",
        "    elif diff1 > diff:\n",
        "        diff = diff1\n",
        "        stroke_model.save(\"/content/drive/MyDrive/stroke_model_best2.h5\")\n",
        "        print(\"\\tSaved model on this epoch with max difference\")"
      ],
      "metadata": {
        "id": "1KzvL34R71kh"
      },
      "execution_count": 9,
      "outputs": [],
      "id": "1KzvL34R71kh"
    },
    {
      "cell_type": "code",
      "execution_count": 10,
      "metadata": {
        "colab": {
          "base_uri": "https://localhost:8080/"
        },
        "outputId": "ace0c220-94f9-4108-dca1-195ccc549e68",
        "id": "FMATpiDy71ks"
      },
      "outputs": [
        {
          "output_type": "stream",
          "name": "stdout",
          "text": [
            "Epoch 1/50\n",
            "88/88 [==============================] - ETA: 0s - loss: 0.5968 - accuracy: 0.6493\tSaved model on this epoch with max val_accuracy and min val_loss\n",
            "88/88 [==============================] - 11s 24ms/step - loss: 0.5968 - accuracy: 0.6493 - val_loss: 0.2289 - val_accuracy: 0.9220\n",
            "Epoch 2/50\n",
            "85/88 [===========================>..] - ETA: 0s - loss: 0.1300 - accuracy: 0.9606\tSaved model on this epoch with max val_accuracy and min val_loss\n",
            "88/88 [==============================] - 1s 11ms/step - loss: 0.1277 - accuracy: 0.9615 - val_loss: 0.0164 - val_accuracy: 1.0000\n",
            "Epoch 3/50\n",
            "85/88 [===========================>..] - ETA: 0s - loss: 0.0295 - accuracy: 0.9924\tSaved model on this epoch with max difference\n",
            "88/88 [==============================] - 2s 17ms/step - loss: 0.0288 - accuracy: 0.9925 - val_loss: 0.0049 - val_accuracy: 1.0000\n",
            "Epoch 4/50\n",
            "85/88 [===========================>..] - ETA: 0s - loss: 0.0078 - accuracy: 0.9982\tSaved model on this epoch with max difference\n",
            "88/88 [==============================] - 1s 10ms/step - loss: 0.0076 - accuracy: 0.9983 - val_loss: 0.0049 - val_accuracy: 1.0000\n",
            "Epoch 5/50\n",
            "85/88 [===========================>..] - ETA: 0s - loss: 0.0111 - accuracy: 0.9982\tSaved model on this epoch with max difference\n",
            "88/88 [==============================] - 1s 11ms/step - loss: 0.0109 - accuracy: 0.9983 - val_loss: 0.0022 - val_accuracy: 1.0000\n",
            "Epoch 6/50\n",
            "85/88 [===========================>..] - ETA: 0s - loss: 0.0018 - accuracy: 1.0000\tSaved model on this epoch with max difference\n",
            "88/88 [==============================] - 1s 10ms/step - loss: 0.0018 - accuracy: 1.0000 - val_loss: 4.6701e-04 - val_accuracy: 1.0000\n",
            "Epoch 7/50\n",
            "88/88 [==============================] - 1s 10ms/step - loss: 4.5112e-04 - accuracy: 1.0000 - val_loss: 6.4569e-04 - val_accuracy: 1.0000\n",
            "Epoch 8/50\n",
            "88/88 [==============================] - 1s 11ms/step - loss: 0.0082 - accuracy: 0.9989 - val_loss: 5.0101e-04 - val_accuracy: 1.0000\n",
            "Epoch 9/50\n",
            "88/88 [==============================] - 1s 11ms/step - loss: 0.0491 - accuracy: 0.9902 - val_loss: 0.0037 - val_accuracy: 1.0000\n",
            "Epoch 10/50\n",
            "88/88 [==============================] - 1s 11ms/step - loss: 0.0042 - accuracy: 0.9994 - val_loss: 6.7555e-04 - val_accuracy: 1.0000\n",
            "Epoch 11/50\n",
            "83/88 [===========================>..] - ETA: 0s - loss: 7.8530e-04 - accuracy: 1.0000\tSaved model on this epoch with max difference\n",
            "88/88 [==============================] - 1s 11ms/step - loss: 8.0382e-04 - accuracy: 1.0000 - val_loss: 1.0672e-04 - val_accuracy: 1.0000\n",
            "Epoch 12/50\n",
            "85/88 [===========================>..] - ETA: 0s - loss: 3.0451e-04 - accuracy: 1.0000\tSaved model on this epoch with max difference\n",
            "88/88 [==============================] - 1s 11ms/step - loss: 2.9868e-04 - accuracy: 1.0000 - val_loss: 4.0959e-05 - val_accuracy: 1.0000\n",
            "Epoch 13/50\n",
            "85/88 [===========================>..] - ETA: 0s - loss: 2.3801e-04 - accuracy: 1.0000\tSaved model on this epoch with max difference\n",
            "88/88 [==============================] - 1s 11ms/step - loss: 2.3293e-04 - accuracy: 1.0000 - val_loss: 3.3745e-05 - val_accuracy: 1.0000\n",
            "Epoch 14/50\n",
            "84/88 [===========================>..] - ETA: 0s - loss: 1.1970e-04 - accuracy: 1.0000\tSaved model on this epoch with max difference\n",
            "88/88 [==============================] - 1s 13ms/step - loss: 1.1634e-04 - accuracy: 1.0000 - val_loss: 2.8893e-05 - val_accuracy: 1.0000\n",
            "Epoch 15/50\n",
            "88/88 [==============================] - 1s 12ms/step - loss: 8.4500e-05 - accuracy: 1.0000 - val_loss: 3.8238e-05 - val_accuracy: 1.0000\n",
            "Epoch 16/50\n",
            "85/88 [===========================>..] - ETA: 0s - loss: 1.0103e-04 - accuracy: 1.0000\tSaved model on this epoch with max difference\n",
            "88/88 [==============================] - 1s 13ms/step - loss: 1.0566e-04 - accuracy: 1.0000 - val_loss: 1.1662e-05 - val_accuracy: 1.0000\n",
            "Epoch 17/50\n",
            "88/88 [==============================] - 1s 10ms/step - loss: 1.0583e-04 - accuracy: 1.0000 - val_loss: 1.2198e-05 - val_accuracy: 1.0000\n",
            "Epoch 18/50\n",
            "88/88 [==============================] - 1s 11ms/step - loss: 6.7095e-04 - accuracy: 1.0000 - val_loss: 8.2031e-04 - val_accuracy: 1.0000\n",
            "Epoch 19/50\n",
            "88/88 [==============================] - 1s 10ms/step - loss: 0.0040 - accuracy: 0.9977 - val_loss: 0.0042 - val_accuracy: 1.0000\n",
            "Epoch 20/50\n",
            "88/88 [==============================] - 1s 11ms/step - loss: 0.0281 - accuracy: 0.9925 - val_loss: 0.0148 - val_accuracy: 0.9885\n",
            "Epoch 21/50\n",
            "88/88 [==============================] - 1s 14ms/step - loss: 0.0808 - accuracy: 0.9851 - val_loss: 0.0682 - val_accuracy: 0.9748\n",
            "Epoch 22/50\n",
            "88/88 [==============================] - 1s 14ms/step - loss: 0.0061 - accuracy: 0.9994 - val_loss: 1.8088e-04 - val_accuracy: 1.0000\n",
            "Epoch 23/50\n",
            "88/88 [==============================] - 1s 14ms/step - loss: 2.7189e-04 - accuracy: 1.0000 - val_loss: 1.2289e-04 - val_accuracy: 1.0000\n",
            "Epoch 24/50\n",
            "88/88 [==============================] - 1s 10ms/step - loss: 1.5945e-04 - accuracy: 1.0000 - val_loss: 1.4780e-04 - val_accuracy: 1.0000\n",
            "Epoch 25/50\n",
            "88/88 [==============================] - 1s 11ms/step - loss: 1.3320e-04 - accuracy: 1.0000 - val_loss: 7.9052e-05 - val_accuracy: 1.0000\n",
            "Epoch 26/50\n",
            "88/88 [==============================] - 1s 10ms/step - loss: 1.0683e-04 - accuracy: 1.0000 - val_loss: 7.9623e-05 - val_accuracy: 1.0000\n",
            "Epoch 27/50\n",
            "88/88 [==============================] - 1s 10ms/step - loss: 9.6864e-05 - accuracy: 1.0000 - val_loss: 5.4861e-05 - val_accuracy: 1.0000\n",
            "Epoch 28/50\n",
            "88/88 [==============================] - 1s 10ms/step - loss: 1.0824e-04 - accuracy: 1.0000 - val_loss: 4.7888e-05 - val_accuracy: 1.0000\n",
            "Epoch 29/50\n",
            "88/88 [==============================] - 1s 10ms/step - loss: 7.0889e-05 - accuracy: 1.0000 - val_loss: 3.3602e-05 - val_accuracy: 1.0000\n",
            "Epoch 30/50\n",
            "88/88 [==============================] - 1s 10ms/step - loss: 9.1642e-05 - accuracy: 1.0000 - val_loss: 3.8862e-05 - val_accuracy: 1.0000\n",
            "Epoch 31/50\n",
            "88/88 [==============================] - 1s 10ms/step - loss: 5.7377e-05 - accuracy: 1.0000 - val_loss: 3.6916e-05 - val_accuracy: 1.0000\n",
            "Epoch 32/50\n",
            "88/88 [==============================] - 1s 11ms/step - loss: 5.0708e-05 - accuracy: 1.0000 - val_loss: 3.3078e-05 - val_accuracy: 1.0000\n",
            "Epoch 33/50\n",
            "88/88 [==============================] - 1s 10ms/step - loss: 1.2555e-04 - accuracy: 1.0000 - val_loss: 1.5828e-04 - val_accuracy: 1.0000\n",
            "Epoch 34/50\n",
            "88/88 [==============================] - 1s 10ms/step - loss: 1.0340e-04 - accuracy: 1.0000 - val_loss: 7.9770e-05 - val_accuracy: 1.0000\n",
            "Epoch 35/50\n",
            "88/88 [==============================] - 1s 11ms/step - loss: 3.0946e-04 - accuracy: 1.0000 - val_loss: 8.1530e-04 - val_accuracy: 1.0000\n",
            "Epoch 36/50\n",
            "88/88 [==============================] - 1s 11ms/step - loss: 4.3526e-05 - accuracy: 1.0000 - val_loss: 1.1801e-04 - val_accuracy: 1.0000\n",
            "Epoch 37/50\n",
            "88/88 [==============================] - 1s 10ms/step - loss: 4.3070e-05 - accuracy: 1.0000 - val_loss: 1.2766e-04 - val_accuracy: 1.0000\n",
            "Epoch 38/50\n",
            "88/88 [==============================] - 1s 14ms/step - loss: 4.7742e-05 - accuracy: 1.0000 - val_loss: 3.1457e-05 - val_accuracy: 1.0000\n",
            "Epoch 39/50\n",
            "88/88 [==============================] - 1s 10ms/step - loss: 2.8302e-05 - accuracy: 1.0000 - val_loss: 4.7740e-05 - val_accuracy: 1.0000\n",
            "Epoch 40/50\n",
            "88/88 [==============================] - 1s 11ms/step - loss: 2.7930e-05 - accuracy: 1.0000 - val_loss: 1.7974e-05 - val_accuracy: 1.0000\n",
            "Epoch 41/50\n",
            "88/88 [==============================] - 1s 10ms/step - loss: 3.0193e-05 - accuracy: 1.0000 - val_loss: 1.7617e-05 - val_accuracy: 1.0000\n",
            "Epoch 42/50\n",
            "88/88 [==============================] - 1s 11ms/step - loss: 3.0195e-05 - accuracy: 1.0000 - val_loss: 2.4733e-05 - val_accuracy: 1.0000\n",
            "Epoch 43/50\n",
            "88/88 [==============================] - 1s 11ms/step - loss: 2.6164e-05 - accuracy: 1.0000 - val_loss: 2.0798e-05 - val_accuracy: 1.0000\n",
            "Epoch 44/50\n",
            "88/88 [==============================] - 1s 10ms/step - loss: 1.3341e-05 - accuracy: 1.0000 - val_loss: 2.2095e-05 - val_accuracy: 1.0000\n",
            "Epoch 45/50\n",
            "88/88 [==============================] - 1s 10ms/step - loss: 1.5583e-05 - accuracy: 1.0000 - val_loss: 3.1369e-05 - val_accuracy: 1.0000\n",
            "Epoch 46/50\n",
            "88/88 [==============================] - 1s 11ms/step - loss: 1.8724e-05 - accuracy: 1.0000 - val_loss: 1.8329e-05 - val_accuracy: 1.0000\n",
            "Epoch 47/50\n",
            "88/88 [==============================] - 1s 10ms/step - loss: 1.4433e-05 - accuracy: 1.0000 - val_loss: 2.3930e-05 - val_accuracy: 1.0000\n",
            "Epoch 48/50\n",
            "88/88 [==============================] - 1s 15ms/step - loss: 1.2934e-04 - accuracy: 1.0000 - val_loss: 7.0042e-04 - val_accuracy: 1.0000\n",
            "Epoch 49/50\n",
            "88/88 [==============================] - 1s 14ms/step - loss: 1.7739e-05 - accuracy: 1.0000 - val_loss: 5.9965e-05 - val_accuracy: 1.0000\n",
            "Epoch 50/50\n",
            "88/88 [==============================] - 1s 10ms/step - loss: 2.2533e-05 - accuracy: 1.0000 - val_loss: 6.0465e-05 - val_accuracy: 1.0000\n"
          ]
        }
      ],
      "source": [
        "history = stroke_model.fit(x_train, y_train, batch_size=20, epochs=50, validation_data = (x_val, y_val), callbacks=[keras.callbacks.LambdaCallback(on_epoch_end=saveModel)])"
      ],
      "id": "FMATpiDy71ks"
    },
    {
      "cell_type": "code",
      "execution_count": 11,
      "metadata": {
        "colab": {
          "base_uri": "https://localhost:8080/",
          "height": 763
        },
        "outputId": "96f1711f-1a3d-43c7-b47f-7322e4e4497c",
        "id": "BXo2dHFP71ks"
      },
      "outputs": [
        {
          "output_type": "display_data",
          "data": {
            "text/plain": [
              "<Figure size 576x432 with 1 Axes>"
            ],
            "image/png": "[encoded data removed]"
          },
          "metadata": {
            "needs_background": "light"
          }
        },
        {
          "output_type": "display_data",
          "data": {
            "text/plain": [
              "<Figure size 576x432 with 1 Axes>"
            ],
            "image/png": "[encoded data removed]"
          },
          "metadata": {
            "needs_background": "light"
          }
        }
      ],
      "source": [
        "acc = history.history['accuracy']\n",
        "val_acc = history.history['val_accuracy']\n",
        "\n",
        "loss = history.history['loss']\n",
        "val_loss = history.history['val_loss']\n",
        "\n",
        "epochs_range = range(len(history.history['loss']))\n",
        "\n",
        "plt.figure(figsize=(8, 6))\n",
        "plt.plot(epochs_range, acc, label='Training Accuracy')\n",
        "plt.plot(epochs_range, val_acc, label='Validation Accuracy')\n",
        "plt.legend(loc='best')\n",
        "plt.title('Training and Validation Accuracy')\n",
        "# plt.savefig('accuracy.png')\n",
        "plt.show()\n",
        "\n",
        "plt.figure(figsize=(8, 6))\n",
        "plt.plot(epochs_range, loss, label='Training Loss')\n",
        "plt.plot(epochs_range, val_loss, label='Validation Loss')\n",
        "plt.legend(loc='best')\n",
        "plt.title('Training and Validation Loss')\n",
        "# plt.savefig('loss.png')\n",
        "plt.show()"
      ],
      "id": "BXo2dHFP71ks"
    },
    {
      "cell_type": "code",
      "execution_count": 12,
      "metadata": {
        "colab": {
          "base_uri": "https://localhost:8080/"
        },
        "outputId": "0e99b838-9ca3-4409-a4fe-f149f57e81c2",
        "id": "W1PZ-_-w71ks"
      },
      "outputs": [
        {
          "output_type": "stream",
          "name": "stdout",
          "text": [
            "Model: \"sequential\"\n",
            "_________________________________________________________________\n",
            " Layer (type)                Output Shape              Param #   \n",
            "=================================================================\n",
            " conv1d (Conv1D)             (None, 744, 32)           8032      \n",
            "                                                                 \n",
            " max_pooling1d (MaxPooling1D  (None, 372, 32)          0         \n",
            " )                                                               \n",
            "                                                                 \n",
            " conv1d_1 (Conv1D)           (None, 47, 64)            102464    \n",
            "                                                                 \n",
            " max_pooling1d_1 (MaxPooling  (None, 23, 64)           0         \n",
            " 1D)                                                             \n",
            "                                                                 \n",
            " conv1d_2 (Conv1D)           (None, 3, 64)             204864    \n",
            "                                                                 \n",
            " global_average_pooling1d (G  (None, 64)               0         \n",
            " lobalAveragePooling1D)                                          \n",
            "                                                                 \n",
            " dropout (Dropout)           (None, 64)                0         \n",
            "                                                                 \n",
            " dense (Dense)               (None, 1)                 65        \n",
            "                                                                 \n",
            "=================================================================\n",
            "Total params: 315,425\n",
            "Trainable params: 315,425\n",
            "Non-trainable params: 0\n",
            "_________________________________________________________________\n"
          ]
        }
      ],
      "source": [
        "model = keras.models.load_model(\"/content/drive/MyDrive/stroke_model_best1.h5\")\n",
        "model.summary()"
      ],
      "id": "W1PZ-_-w71ks"
    },
    {
      "cell_type": "code",
      "execution_count": 13,
      "metadata": {
        "colab": {
          "base_uri": "https://localhost:8080/"
        },
        "outputId": "832871bc-1d2b-48dd-e50d-ddc9789a1595",
        "id": "ld2anTmQ71kt"
      },
      "outputs": [
        {
          "output_type": "stream",
          "name": "stdout",
          "text": [
            "18/18 [==============================] - 0s 5ms/step\n",
            "Predictions:  [0 1 0 1 1 0 1 1 1 0 0 1 1 0 1 1 1 0 1 1 1 0 1 1 1 1 1 1 1 0 0 1 0 0 1 1 1\n",
            " 0 0 1 1 0 0 1 0 0 0 1 0 1 0 0 1 0 1 1 0 0 1 1 1 0 1 0 0 0 0 0 1 0 1 1 0 1\n",
            " 1 0 1 1 1 1 0 1 1 0 0 0 1 1 0 1 1 0 0 0 0 1 1 0 0 1 1 0 1 1 0 0 1 1 0 1 1\n",
            " 1 0 1 1 0 0 1 1 1 1 0 0 1 1 0 0 1 0 0 0 0 1 0 0 0 1 1 1 0 1 0 1 1 1 1 1 1\n",
            " 1 1 0 0 1 1 1 0 1 0 1 0 0 0 0 1 0 0 1 0 1 1 0 1 1 0 0 0 1 1 1 1 1 0 0 0 0\n",
            " 1 1 1 0 0 1 1 1 0 1 1 0 0 1 0 1 0 0 1 0 0 1 0 1 0 1 0 0 1 1 1 0 1 1 0 0 1\n",
            " 0 0 0 0 1 0 1 0 0 1 0 0 0 1 1 1 0 0 0 0 0 1 0 1 0 0 1 1 1 0 1 0 1 1 1 1 0\n",
            " 0 0 1 1 1 1 1 0 0 1 0 1 0 0 1 0 0 1 1 1 0 1 0 0 1 0 1 1 0 1 1 1 1 1 0 0 0\n",
            " 1 1 1 1 0 0 0 0 0 1 0 1 0 1 1 0 1 1 1 0 0 1 1 1 0 1 1 1 0 0 1 1 1 0 1 0 0\n",
            " 1 0 1 1 0 1 1 0 1 0 0 1 0 0 1 0 0 0 1 1 1 0 0 1 1 1 1 1 0 1 0 0 1 0 0 0 1\n",
            " 0 1 1 0 1 1 1 1 0 1 0 1 1 0 0 1 1 1 0 0 0 1 0 1 1 0 1 1 0 0 0 0 0 1 0 0 0\n",
            " 1 0 0 0 0 0 0 0 0 1 0 1 0 0 1 0 0 0 0 0 0 1 1 1 1 0 1 0 0 1 0 0 0 1 0 1 1\n",
            " 0 0 0 0 1 0 1 1 0 0 1 0 0 0 0 1 1 1 1 1 1 0 1 0 1 1 1 1 1 1 0 1 1 1 1 0 0\n",
            " 0 1 1 1 1 0 1 1 1 0 1 0 1 0 0 1 1 1 1 1 0 1 1 0 0 1 1 1 0 0 0 1 0 1 0 0 1\n",
            " 1 1 1 1 1 0 0 0 1 1 0 1 1 1 1 1 0 0 0 1 1 0 0 1 1 0 1]\n",
            "\n",
            "True Labels:  [0 1 0 1 1 0 1 1 1 0 0 1 1 0 1 1 1 0 1 1 1 0 1 1 1 1 1 1 1 0 0 1 0 0 1 1 1\n",
            " 0 0 1 1 0 0 1 0 0 0 1 0 1 0 0 1 0 1 1 0 0 1 1 1 0 1 0 0 0 0 0 1 0 1 1 0 1\n",
            " 1 0 1 1 1 1 0 1 1 0 0 0 1 1 0 1 1 0 0 0 0 1 1 0 0 1 1 0 1 1 0 0 1 1 0 1 1\n",
            " 1 0 1 1 0 0 1 1 1 1 0 0 1 1 0 0 1 0 0 0 0 1 0 0 0 1 1 1 0 1 0 1 1 1 1 1 1\n",
            " 1 1 0 0 1 1 1 0 1 0 1 0 0 0 0 1 0 0 1 0 1 1 0 1 1 0 0 0 1 1 1 1 1 0 0 0 0\n",
            " 1 1 1 0 0 1 1 1 0 1 1 0 0 1 0 1 0 0 1 0 0 1 0 1 0 1 0 0 1 1 1 0 1 1 0 0 1\n",
            " 0 0 0 0 1 0 1 0 0 1 0 0 0 1 1 1 0 0 0 0 0 1 0 1 0 0 1 1 1 0 1 0 1 1 1 1 0\n",
            " 0 0 1 1 1 1 1 0 0 1 0 1 0 0 1 0 0 1 1 1 0 1 0 0 1 0 1 1 0 1 1 1 1 1 0 0 0\n",
            " 1 1 1 1 0 0 0 0 0 1 0 1 0 1 1 0 1 1 1 0 0 1 1 1 0 1 1 1 0 0 1 0 1 0 1 0 0\n",
            " 1 0 1 1 0 1 1 0 1 0 0 1 0 0 1 0 0 0 1 1 1 0 0 1 1 1 1 1 0 1 0 0 1 0 0 0 1\n",
            " 0 1 1 0 1 1 1 1 0 1 0 1 1 0 0 1 1 1 0 0 0 1 0 1 1 0 1 1 0 0 0 0 0 1 0 0 0\n",
            " 1 0 0 0 0 0 0 0 0 1 0 1 0 0 1 0 0 0 0 0 0 1 1 1 1 0 1 0 0 1 0 0 0 1 0 1 1\n",
            " 0 0 0 0 1 0 1 1 0 0 1 0 0 0 0 1 1 1 1 1 1 0 1 0 1 1 1 1 1 1 0 1 1 1 1 0 0\n",
            " 0 1 1 1 1 0 1 1 1 0 1 0 1 0 0 1 1 1 1 1 0 1 1 0 0 1 1 1 0 0 0 1 0 1 0 0 1\n",
            " 1 1 1 1 1 0 0 0 1 1 0 1 1 1 1 1 0 0 0 1 1 0 0 1 1 0 1]\n"
          ]
        }
      ],
      "source": [
        "predictions = model.predict(x_test)\n",
        "predictions = predictions.flatten()\n",
        "predictions[predictions >= 0.5] = 1.0\n",
        "predictions[predictions < 0.5] = 0.0\n",
        "predictions = np.int32(predictions)\n",
        "print(\"Predictions: \", predictions)\n",
        "print(\"\\nTrue Labels: \", y_test)"
      ],
      "id": "ld2anTmQ71kt"
    },
    {
      "cell_type": "code",
      "execution_count": 14,
      "metadata": {
        "colab": {
          "base_uri": "https://localhost:8080/",
          "height": 358
        },
        "outputId": "19254799-3829-4cd9-a20a-19817d51c7fd",
        "id": "bgTkr8NR71kt"
      },
      "outputs": [
        {
          "output_type": "display_data",
          "data": {
            "text/plain": [
              "<Figure size 360x360 with 1 Axes>"
            ],
            "image/png": "[encoded data removed]"
          },
          "metadata": {
            "needs_background": "light"
          }
        }
      ],
      "source": [
        "from sklearn import metrics\n",
        "# Confusion Matrix\n",
        "conf_matrix = metrics.confusion_matrix(y_true=y_test, y_pred=predictions)\n",
        "tn, fp, fn, tp = conf_matrix.ravel()\n",
        "\n",
        "fig, ax = plt.subplots(figsize=(5, 5))\n",
        "ax.matshow(conf_matrix, alpha=0.3)\n",
        "for i in range(conf_matrix.shape[0]):\n",
        "    for j in range(conf_matrix.shape[1]):\n",
        "        ax.text(x=j, y=i,s=conf_matrix[i, j], va='center', ha='center', size='xx-large')\n",
        " \n",
        "plt.xlabel('Predictions', fontsize=18)\n",
        "plt.ylabel('Actuals', fontsize=18)\n",
        "plt.title('Confusion Matrix', fontsize=18)\n",
        "plt.show()\n",
        "# plt.savefig('confusion_matrix.png')"
      ],
      "id": "bgTkr8NR71kt"
    },
    {
      "cell_type": "code",
      "execution_count": 15,
      "metadata": {
        "colab": {
          "base_uri": "https://localhost:8080/"
        },
        "outputId": "492254e9-5b0b-4057-8549-6eef65d67821",
        "id": "zbAaGCpL71kt"
      },
      "outputs": [
        {
          "output_type": "stream",
          "name": "stdout",
          "text": [
            "Precision: 0.997\n",
            "Recall: 1.000\n",
            "Accuracy: 0.998\n",
            "F1 Score: 0.998\n",
            "Specificity:  0.9961240310077519\n",
            "Sensitivity:  1.0\n"
          ]
        }
      ],
      "source": [
        "# Precision, Recall, Accuracy, F1-Score\n",
        "\t\n",
        "print('Precision: %.3f' % metrics.precision_score(y_test, predictions))\n",
        "print('Recall: %.3f' % metrics.recall_score(y_test, predictions))\n",
        "print('Accuracy: %.3f' % metrics.accuracy_score(y_test, predictions))\n",
        "print('F1 Score: %.3f' % metrics.f1_score(y_test, predictions))\n",
        "\n",
        "specificity = tn / (tn+fp)\n",
        "print('Specificity: ', specificity)\n",
        "sensitivity = tp / (tp+fn)\n",
        "print('Sensitivity: ', sensitivity)"
      ],
      "id": "zbAaGCpL71kt"
    },
    {
      "cell_type": "code",
      "execution_count": 16,
      "metadata": {
        "colab": {
          "base_uri": "https://localhost:8080/",
          "height": 407
        },
        "outputId": "845de355-e159-4882-b7b6-20b55f7e7a41",
        "id": "Wo2u20WW71ku"
      },
      "outputs": [
        {
          "output_type": "stream",
          "name": "stdout",
          "text": [
            "AUC Value:  0.998062015503876\n"
          ]
        },
        {
          "output_type": "display_data",
          "data": {
            "text/plain": [
              "<Figure size 576x432 with 1 Axes>"
            ],
            "image/png": "[encoded data removed]"
          },
          "metadata": {
            "needs_background": "light"
          }
        }
      ],
      "source": [
        "# ROC Curve and AUC value\n",
        "nn_fpr_keras, nn_tpr_keras, nn_thresholds_keras = metrics.roc_curve(y_test, predictions)\n",
        "auc_keras = metrics.auc(nn_fpr_keras, nn_tpr_keras)\n",
        "print(\"AUC Value: \",auc_keras)\n",
        "plt.figure(figsize=(8, 6))\n",
        "plt.plot(nn_fpr_keras, nn_tpr_keras, marker='.', label='Neural Network (auc = {})'.format(round(auc_keras,3)))\n",
        "plt.legend(loc='best')\n",
        "plt.title('ROC Curve')\n",
        "plt.show()\n",
        "# plt.savefig('roc_curve.png')"
      ],
      "id": "Wo2u20WW71ku"
    },
    {
      "cell_type": "code",
      "execution_count": null,
      "id": "95621711",
      "metadata": {
        "id": "95621711"
      },
      "outputs": [],
      "source": []
    }
  ],
  "metadata": {
    "kernelspec": {
      "display_name": "Python 3",
      "language": "python",
      "name": "python3"
    },
    "language_info": {
      "codemirror_mode": {
        "name": "ipython",
        "version": 3
      },
      "file_extension": ".py",
      "mimetype": "text/x-python",
      "name": "python",
      "nbconvert_exporter": "python",
      "pygments_lexer": "ipython3",
      "version": "3.8.8"
    },
    "colab": {
      "provenance": [],
      "collapsed_sections": [
        "0d6a3223"
      ]
    },
    "accelerator": "GPU"
  },
  "nbformat": 4,
  "nbformat_minor": 5
}