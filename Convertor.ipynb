{
 "cells": [
  {
   "cell_type": "code",
   "execution_count": 1,
   "id": "4d57e954",
   "metadata": {},
   "outputs": [],
   "source": [
    "import numpy as np\n",
    "import pandas as pd\n",
    "import os\n",
    "import shutil\n",
    "from tqdm import tqdm"
   ]
  },
  {
   "cell_type": "markdown",
   "id": "eee0bdd7",
   "metadata": {},
   "source": [
    "# Quality Check Dataset Combiner"
   ]
  },
  {
   "cell_type": "code",
   "execution_count": 2,
   "id": "285ae7f2",
   "metadata": {},
   "outputs": [],
   "source": [
    "df1 = pd.read_csv(\"labels - 0.csv\")\n",
    "df2 = pd.read_csv(\"labels - 1.csv\")"
   ]
  },
  {
   "cell_type": "code",
   "execution_count": 3,
   "id": "c317ceb9",
   "metadata": {},
   "outputs": [
    {
     "data": {
      "text/html": [
       "<div>\n",
       "<style scoped>\n",
       "    .dataframe tbody tr th:only-of-type {\n",
       "        vertical-align: middle;\n",
       "    }\n",
       "\n",
       "    .dataframe tbody tr th {\n",
       "        vertical-align: top;\n",
       "    }\n",
       "\n",
       "    .dataframe thead th {\n",
       "        text-align: right;\n",
       "    }\n",
       "</style>\n",
       "<table border=\"1\" class=\"dataframe\">\n",
       "  <thead>\n",
       "    <tr style=\"text-align: right;\">\n",
       "      <th></th>\n",
       "      <th>File</th>\n",
       "      <th>Class</th>\n",
       "    </tr>\n",
       "  </thead>\n",
       "  <tbody>\n",
       "    <tr>\n",
       "      <th>0</th>\n",
       "      <td>0_s0030_0.npy</td>\n",
       "      <td>1</td>\n",
       "    </tr>\n",
       "    <tr>\n",
       "      <th>1</th>\n",
       "      <td>0_s0030_1.npy</td>\n",
       "      <td>0</td>\n",
       "    </tr>\n",
       "    <tr>\n",
       "      <th>2</th>\n",
       "      <td>1_s0030_0.npy</td>\n",
       "      <td>1</td>\n",
       "    </tr>\n",
       "    <tr>\n",
       "      <th>3</th>\n",
       "      <td>1_s0030_1.npy</td>\n",
       "      <td>0</td>\n",
       "    </tr>\n",
       "    <tr>\n",
       "      <th>4</th>\n",
       "      <td>2_s0030_0.npy</td>\n",
       "      <td>1</td>\n",
       "    </tr>\n",
       "  </tbody>\n",
       "</table>\n",
       "</div>"
      ],
      "text/plain": [
       "            File  Class\n",
       "0  0_s0030_0.npy      1\n",
       "1  0_s0030_1.npy      0\n",
       "2  1_s0030_0.npy      1\n",
       "3  1_s0030_1.npy      0\n",
       "4  2_s0030_0.npy      1"
      ]
     },
     "execution_count": 3,
     "metadata": {},
     "output_type": "execute_result"
    }
   ],
   "source": [
    "# concatinating dataframe\n",
    "result = pd.concat([df1, df2])\n",
    "result.head()"
   ]
  },
  {
   "cell_type": "code",
   "execution_count": 4,
   "id": "69d57460",
   "metadata": {},
   "outputs": [
    {
     "data": {
      "text/plain": [
       "(4000, 2)"
      ]
     },
     "execution_count": 4,
     "metadata": {},
     "output_type": "execute_result"
    }
   ],
   "source": [
    "result.shape"
   ]
  },
  {
   "cell_type": "code",
   "execution_count": 5,
   "id": "1e362cfb",
   "metadata": {},
   "outputs": [],
   "source": [
    "# shuffling rows in dataframe\n",
    "result = result.sample(frac=1).reset_index(drop=True)"
   ]
  },
  {
   "cell_type": "code",
   "execution_count": 6,
   "id": "69b7e64b",
   "metadata": {},
   "outputs": [],
   "source": [
    "# savig the dataframe file\n",
    "result.to_csv(\"labels.csv\", index = False)"
   ]
  },
  {
   "cell_type": "code",
   "execution_count": null,
   "id": "d4586c32",
   "metadata": {},
   "outputs": [],
   "source": []
  },
  {
   "cell_type": "markdown",
   "id": "5a6418cb",
   "metadata": {},
   "source": [
    "# QC Dataset to Stroke Model Dataset"
   ]
  },
  {
   "cell_type": "markdown",
   "id": "f364650a",
   "metadata": {},
   "source": [
    "### CSV File Generation"
   ]
  },
  {
   "cell_type": "code",
   "execution_count": 7,
   "id": "333f4b43",
   "metadata": {},
   "outputs": [],
   "source": [
    "ml_label = pd.read_csv(\"ml_labels.csv\")\n",
    "label = pd.read_csv(\"labels.csv\")\n",
    "df = pd.DataFrame(columns = [\"File\", \"Label\"])"
   ]
  },
  {
   "cell_type": "code",
   "execution_count": 8,
   "id": "07944217",
   "metadata": {},
   "outputs": [
    {
     "data": {
      "text/html": [
       "<div>\n",
       "<style scoped>\n",
       "    .dataframe tbody tr th:only-of-type {\n",
       "        vertical-align: middle;\n",
       "    }\n",
       "\n",
       "    .dataframe tbody tr th {\n",
       "        vertical-align: top;\n",
       "    }\n",
       "\n",
       "    .dataframe thead th {\n",
       "        text-align: right;\n",
       "    }\n",
       "</style>\n",
       "<table border=\"1\" class=\"dataframe\">\n",
       "  <thead>\n",
       "    <tr style=\"text-align: right;\">\n",
       "      <th></th>\n",
       "      <th>subject_number</th>\n",
       "      <th>completed_visit_status</th>\n",
       "      <th>group</th>\n",
       "      <th>group2</th>\n",
       "      <th>DM Non-DM STROKE</th>\n",
       "    </tr>\n",
       "  </thead>\n",
       "  <tbody>\n",
       "    <tr>\n",
       "      <th>0</th>\n",
       "      <td>S0030</td>\n",
       "      <td>COMPLETED</td>\n",
       "      <td>0</td>\n",
       "      <td>0</td>\n",
       "      <td>0</td>\n",
       "    </tr>\n",
       "    <tr>\n",
       "      <th>1</th>\n",
       "      <td>S0044</td>\n",
       "      <td>COMPLETED</td>\n",
       "      <td>0</td>\n",
       "      <td>0</td>\n",
       "      <td>0</td>\n",
       "    </tr>\n",
       "    <tr>\n",
       "      <th>2</th>\n",
       "      <td>S0064</td>\n",
       "      <td>COMPLETED</td>\n",
       "      <td>0</td>\n",
       "      <td>0</td>\n",
       "      <td>0</td>\n",
       "    </tr>\n",
       "    <tr>\n",
       "      <th>3</th>\n",
       "      <td>S0067</td>\n",
       "      <td>COMPLETED</td>\n",
       "      <td>0</td>\n",
       "      <td>0</td>\n",
       "      <td>0</td>\n",
       "    </tr>\n",
       "    <tr>\n",
       "      <th>4</th>\n",
       "      <td>S0068</td>\n",
       "      <td>COMPLETED</td>\n",
       "      <td>0</td>\n",
       "      <td>0</td>\n",
       "      <td>0</td>\n",
       "    </tr>\n",
       "  </tbody>\n",
       "</table>\n",
       "</div>"
      ],
      "text/plain": [
       "  subject_number completed_visit_status  group  group2  DM Non-DM STROKE\n",
       "0          S0030              COMPLETED      0       0                 0\n",
       "1          S0044              COMPLETED      0       0                 0\n",
       "2          S0064              COMPLETED      0       0                 0\n",
       "3          S0067              COMPLETED      0       0                 0\n",
       "4          S0068              COMPLETED      0       0                 0"
      ]
     },
     "execution_count": 8,
     "metadata": {},
     "output_type": "execute_result"
    }
   ],
   "source": [
    "ml_label.head()"
   ]
  },
  {
   "cell_type": "code",
   "execution_count": 9,
   "id": "544e19ec",
   "metadata": {},
   "outputs": [
    {
     "data": {
      "text/html": [
       "<div>\n",
       "<style scoped>\n",
       "    .dataframe tbody tr th:only-of-type {\n",
       "        vertical-align: middle;\n",
       "    }\n",
       "\n",
       "    .dataframe tbody tr th {\n",
       "        vertical-align: top;\n",
       "    }\n",
       "\n",
       "    .dataframe thead th {\n",
       "        text-align: right;\n",
       "    }\n",
       "</style>\n",
       "<table border=\"1\" class=\"dataframe\">\n",
       "  <thead>\n",
       "    <tr style=\"text-align: right;\">\n",
       "      <th></th>\n",
       "      <th>File</th>\n",
       "      <th>Class</th>\n",
       "    </tr>\n",
       "  </thead>\n",
       "  <tbody>\n",
       "    <tr>\n",
       "      <th>0</th>\n",
       "      <td>953_s0068_1.npy</td>\n",
       "      <td>1</td>\n",
       "    </tr>\n",
       "    <tr>\n",
       "      <th>1</th>\n",
       "      <td>986_s0402_1.npy</td>\n",
       "      <td>1</td>\n",
       "    </tr>\n",
       "    <tr>\n",
       "      <th>2</th>\n",
       "      <td>58_s0030_1.npy</td>\n",
       "      <td>0</td>\n",
       "    </tr>\n",
       "    <tr>\n",
       "      <th>3</th>\n",
       "      <td>439_s0064_0.npy</td>\n",
       "      <td>1</td>\n",
       "    </tr>\n",
       "    <tr>\n",
       "      <th>4</th>\n",
       "      <td>250_s0363_0.npy</td>\n",
       "      <td>1</td>\n",
       "    </tr>\n",
       "  </tbody>\n",
       "</table>\n",
       "</div>"
      ],
      "text/plain": [
       "              File  Class\n",
       "0  953_s0068_1.npy      1\n",
       "1  986_s0402_1.npy      1\n",
       "2   58_s0030_1.npy      0\n",
       "3  439_s0064_0.npy      1\n",
       "4  250_s0363_0.npy      1"
      ]
     },
     "execution_count": 9,
     "metadata": {},
     "output_type": "execute_result"
    }
   ],
   "source": [
    "label.head()"
   ]
  },
  {
   "cell_type": "code",
   "execution_count": 10,
   "id": "44553dac",
   "metadata": {},
   "outputs": [
    {
     "data": {
      "text/html": [
       "<div>\n",
       "<style scoped>\n",
       "    .dataframe tbody tr th:only-of-type {\n",
       "        vertical-align: middle;\n",
       "    }\n",
       "\n",
       "    .dataframe tbody tr th {\n",
       "        vertical-align: top;\n",
       "    }\n",
       "\n",
       "    .dataframe thead th {\n",
       "        text-align: right;\n",
       "    }\n",
       "</style>\n",
       "<table border=\"1\" class=\"dataframe\">\n",
       "  <thead>\n",
       "    <tr style=\"text-align: right;\">\n",
       "      <th></th>\n",
       "      <th>File</th>\n",
       "      <th>Class</th>\n",
       "    </tr>\n",
       "  </thead>\n",
       "  <tbody>\n",
       "    <tr>\n",
       "      <th>0</th>\n",
       "      <td>953_s0068_1.npy</td>\n",
       "      <td>1</td>\n",
       "    </tr>\n",
       "    <tr>\n",
       "      <th>1</th>\n",
       "      <td>986_s0402_1.npy</td>\n",
       "      <td>1</td>\n",
       "    </tr>\n",
       "    <tr>\n",
       "      <th>3</th>\n",
       "      <td>439_s0064_0.npy</td>\n",
       "      <td>1</td>\n",
       "    </tr>\n",
       "    <tr>\n",
       "      <th>4</th>\n",
       "      <td>250_s0363_0.npy</td>\n",
       "      <td>1</td>\n",
       "    </tr>\n",
       "    <tr>\n",
       "      <th>6</th>\n",
       "      <td>450_s0064_1.npy</td>\n",
       "      <td>1</td>\n",
       "    </tr>\n",
       "  </tbody>\n",
       "</table>\n",
       "</div>"
      ],
      "text/plain": [
       "              File  Class\n",
       "0  953_s0068_1.npy      1\n",
       "1  986_s0402_1.npy      1\n",
       "3  439_s0064_0.npy      1\n",
       "4  250_s0363_0.npy      1\n",
       "6  450_s0064_1.npy      1"
      ]
     },
     "execution_count": 10,
     "metadata": {},
     "output_type": "execute_result"
    }
   ],
   "source": [
    "label = label[label.Class == 1.0]\n",
    "label.head()"
   ]
  },
  {
   "cell_type": "code",
   "execution_count": 11,
   "id": "c99291a4",
   "metadata": {},
   "outputs": [],
   "source": [
    "for _, row in label.iterrows():\n",
    "    file_name = row[\"File\"].split(\"_\")[1].upper()\n",
    "    num = ml_label.subject_number[ml_label.subject_number == file_name].index.tolist()[0]\n",
    "    num = ml_label.iloc[num,2]\n",
    "    df.loc[len(df)] = [row[\"File\"], num]\n",
    "    \n",
    "df.to_csv(\"label_file.csv\", index = False)"
   ]
  },
  {
   "cell_type": "markdown",
   "id": "1dae4cff",
   "metadata": {},
   "source": [
    "### Dataset Generation"
   ]
  },
  {
   "cell_type": "code",
   "execution_count": 15,
   "id": "2c34783e",
   "metadata": {},
   "outputs": [
    {
     "name": "stdout",
     "output_type": "stream",
     "text": [
      "(2723, 2)\n"
     ]
    },
    {
     "data": {
      "text/html": [
       "<div>\n",
       "<style scoped>\n",
       "    .dataframe tbody tr th:only-of-type {\n",
       "        vertical-align: middle;\n",
       "    }\n",
       "\n",
       "    .dataframe tbody tr th {\n",
       "        vertical-align: top;\n",
       "    }\n",
       "\n",
       "    .dataframe thead th {\n",
       "        text-align: right;\n",
       "    }\n",
       "</style>\n",
       "<table border=\"1\" class=\"dataframe\">\n",
       "  <thead>\n",
       "    <tr style=\"text-align: right;\">\n",
       "      <th></th>\n",
       "      <th>File</th>\n",
       "      <th>Label</th>\n",
       "    </tr>\n",
       "  </thead>\n",
       "  <tbody>\n",
       "    <tr>\n",
       "      <th>0</th>\n",
       "      <td>953_s0068_1.npy</td>\n",
       "      <td>0</td>\n",
       "    </tr>\n",
       "    <tr>\n",
       "      <th>1</th>\n",
       "      <td>986_s0402_1.npy</td>\n",
       "      <td>1</td>\n",
       "    </tr>\n",
       "    <tr>\n",
       "      <th>2</th>\n",
       "      <td>439_s0064_0.npy</td>\n",
       "      <td>0</td>\n",
       "    </tr>\n",
       "    <tr>\n",
       "      <th>3</th>\n",
       "      <td>250_s0363_0.npy</td>\n",
       "      <td>1</td>\n",
       "    </tr>\n",
       "    <tr>\n",
       "      <th>4</th>\n",
       "      <td>450_s0064_1.npy</td>\n",
       "      <td>0</td>\n",
       "    </tr>\n",
       "  </tbody>\n",
       "</table>\n",
       "</div>"
      ],
      "text/plain": [
       "              File  Label\n",
       "0  953_s0068_1.npy      0\n",
       "1  986_s0402_1.npy      1\n",
       "2  439_s0064_0.npy      0\n",
       "3  250_s0363_0.npy      1\n",
       "4  450_s0064_1.npy      0"
      ]
     },
     "execution_count": 15,
     "metadata": {},
     "output_type": "execute_result"
    }
   ],
   "source": [
    "labels = pd.read_csv(\"label_file.csv\")\n",
    "print(labels.shape)\n",
    "labels.head()"
   ]
  },
  {
   "cell_type": "code",
   "execution_count": 18,
   "id": "fc19a17c",
   "metadata": {},
   "outputs": [
    {
     "name": "stderr",
     "output_type": "stream",
     "text": [
      "2723it [00:05, 526.92it/s] \n"
     ]
    }
   ],
   "source": [
    "loc = \"QC Dataset/\"\n",
    "dest_loc = \"Stroke Dataset/\"\n",
    "os.makedirs(dest_loc, exist_ok = True)\n",
    "\n",
    "for _, row in tqdm(label.iterrows()):\n",
    "    shutil.copy(loc + row[\"File\"], dest_loc + row[\"File\"])\n",
    "\n",
    "# saving the CSV in folder\n",
    "labels.to_csv(dest_loc + \"labels.csv\", index = False)"
   ]
  },
  {
   "cell_type": "markdown",
   "id": "721e4996",
   "metadata": {},
   "source": [
    "# Balancing Low Quality Signal"
   ]
  },
  {
   "cell_type": "code",
   "execution_count": 3,
   "id": "75aedc84",
   "metadata": {},
   "outputs": [
    {
     "name": "stdout",
     "output_type": "stream",
     "text": [
      "(4000, 2)\n"
     ]
    },
    {
     "data": {
      "text/html": [
       "<div>\n",
       "<style scoped>\n",
       "    .dataframe tbody tr th:only-of-type {\n",
       "        vertical-align: middle;\n",
       "    }\n",
       "\n",
       "    .dataframe tbody tr th {\n",
       "        vertical-align: top;\n",
       "    }\n",
       "\n",
       "    .dataframe thead th {\n",
       "        text-align: right;\n",
       "    }\n",
       "</style>\n",
       "<table border=\"1\" class=\"dataframe\">\n",
       "  <thead>\n",
       "    <tr style=\"text-align: right;\">\n",
       "      <th></th>\n",
       "      <th>File</th>\n",
       "      <th>Class</th>\n",
       "    </tr>\n",
       "  </thead>\n",
       "  <tbody>\n",
       "    <tr>\n",
       "      <th>0</th>\n",
       "      <td>953_s0068_1.npy</td>\n",
       "      <td>1</td>\n",
       "    </tr>\n",
       "    <tr>\n",
       "      <th>1</th>\n",
       "      <td>986_s0402_1.npy</td>\n",
       "      <td>1</td>\n",
       "    </tr>\n",
       "    <tr>\n",
       "      <th>2</th>\n",
       "      <td>58_s0030_1.npy</td>\n",
       "      <td>0</td>\n",
       "    </tr>\n",
       "    <tr>\n",
       "      <th>3</th>\n",
       "      <td>439_s0064_0.npy</td>\n",
       "      <td>1</td>\n",
       "    </tr>\n",
       "    <tr>\n",
       "      <th>4</th>\n",
       "      <td>250_s0363_0.npy</td>\n",
       "      <td>1</td>\n",
       "    </tr>\n",
       "  </tbody>\n",
       "</table>\n",
       "</div>"
      ],
      "text/plain": [
       "              File  Class\n",
       "0  953_s0068_1.npy      1\n",
       "1  986_s0402_1.npy      1\n",
       "2   58_s0030_1.npy      0\n",
       "3  439_s0064_0.npy      1\n",
       "4  250_s0363_0.npy      1"
      ]
     },
     "execution_count": 3,
     "metadata": {},
     "output_type": "execute_result"
    }
   ],
   "source": [
    "loc = \"QC Dataset/\"\n",
    "label = pd.read_csv(loc + \"labels.csv\")\n",
    "print(label.shape)\n",
    "label.head()"
   ]
  },
  {
   "cell_type": "code",
   "execution_count": 6,
   "id": "c2b2bcb7",
   "metadata": {},
   "outputs": [
    {
     "name": "stderr",
     "output_type": "stream",
     "text": [
      "4000it [00:05, 736.94it/s] \n"
     ]
    },
    {
     "data": {
      "text/plain": [
       "(5277, 2)"
      ]
     },
     "execution_count": 6,
     "metadata": {},
     "output_type": "execute_result"
    }
   ],
   "source": [
    "label_df = label.copy()\n",
    "\n",
    "for _, row in tqdm(label_df.iterrows()):\n",
    "    if row[\"Class\"] == 0:\n",
    "        filename = row[\"File\"].split(\".\")[0] + \"_1.npy\"\n",
    "        shutil.copy(loc + row[\"File\"], loc + filename)\n",
    "        label.loc[len(label)] = [filename, row[\"Class\"]]\n",
    "label.shape"
   ]
  },
  {
   "cell_type": "code",
   "execution_count": 12,
   "id": "7bd02390",
   "metadata": {},
   "outputs": [],
   "source": [
    "# shuffling rows in dataframe\n",
    "label = label.sample(frac=1).reset_index(drop=True)\n",
    "\n",
    "label.to_csv(loc + \"labels.csv\", index = False)"
   ]
  },
  {
   "cell_type": "code",
   "execution_count": null,
   "id": "5c5ed1ca",
   "metadata": {},
   "outputs": [],
   "source": []
  }
 ],
 "metadata": {
  "kernelspec": {
   "display_name": "Python 3",
   "language": "python",
   "name": "python3"
  },
  "language_info": {
   "codemirror_mode": {
    "name": "ipython",
    "version": 3
   },
   "file_extension": ".py",
   "mimetype": "text/x-python",
   "name": "python",
   "nbconvert_exporter": "python",
   "pygments_lexer": "ipython3",
   "version": "3.8.8"
  }
 },
 "nbformat": 4,
 "nbformat_minor": 5
}
